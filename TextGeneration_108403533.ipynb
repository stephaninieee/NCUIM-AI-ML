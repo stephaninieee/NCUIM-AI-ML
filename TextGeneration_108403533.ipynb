{
  "nbformat": 4,
  "nbformat_minor": 0,
  "metadata": {
    "accelerator": "GPU",
    "colab": {
      "name": "TextGeneration-108403533.ipynb",
      "provenance": [],
      "collapsed_sections": []
    },
    "kernelspec": {
      "display_name": "Python 3",
      "name": "python3"
    }
  },
  "cells": [
    {
      "cell_type": "markdown",
      "metadata": {
        "id": "wRBvwrOM15OY"
      },
      "source": [
        "<img src=\"https://i.imgur.com/12tfKrD.png\" alt=\"Alin\">\n",
        "</img>\n",
        "\n",
        "\n",
        "# Demo RNN -- 張愛玲散文集AI二次創作\n",
        "\n",
        "資料集: 張愛玲繁體中文小說 《傳奇》\n",
        "\n",
        "爬蟲來源: [crawl_book](https://colab.research.google.com/drive/1f_HvQEvgkJPFc473TlA-I_3EmkThA2SR?usp=sharing)\n",
        "\n",
        "程式碼參考: [Tensorflow](https://www.tensorflow.org/tutorials/text/text_generation)\n",
        "\n",
        "本次資料集，著作權乃是張愛玲女士所擁有。**請勿將本次資料集散播、更改、用於非商業用途**。\n",
        "\n",
        "> **資料集說明**\n",
        "\n",
        "今年是張愛玲女士101年誕辰。張愛玲出生名門，曾就讀於香港大學和聖約翰大學，受過良好的中西教育。上海淪陷時期，陸續發表《沉香屑·第一爐香》、《傾城之戀》、《心經》、《金鎖記》等中、短篇小說，震動上海文壇。\n",
        "\n",
        "這次訓練取張愛玲散文集《傳奇》作為訓練，《傳奇》收留五篇散文: 「留情」、「鴻鸞禧」、「紅玫瑰與白玫瑰」、「等」、「桂花蒸阿小悲秋」。其中以「紅玫瑰與白玫瑰」最為膾炙人口。\n",
        "\n",
        "> **訓練步驟**\n",
        "\n",
        "深度學習在訓練模型上有以下幾個重要的步驟:\n",
        "1. 讀入相關封包\n",
        "2. 取得資料集 \n",
        "3. 資料前處理\n",
        "4. 建立模型\n",
        "5. 制定訓練計畫\n",
        "6. 評估模型\n",
        "7. 做預測\n",
        "\n",
        "> **本次模型介紹 RNN**\n",
        "\n",
        "![](https://i.imgur.com/FaY50C8.png)\n",
        "\n",
        "\n",
        "我們來看看維度，很多人會搞不懂RNN的維度:\n",
        "\n",
        "一個Seq通過RNN後的維度\n",
        "\n",
        "* Input: (Seq,${originDim}$)\n",
        "* RNN Neuron: 2048\n",
        "* Output: (Seq,2048) if (return_sequence == True) else (1,2048)\n",
        "![](https://i.imgur.com/9SVl6JR.png)\n",
        "\n",
        "![](https://i.imgur.com/z4ElFIr.png)\n",
        "\n",
        "> **把生成問題變成分類問題**\n",
        "\n",
        "![](https://i.imgur.com/TBHKuf6.png)\n"
      ]
    },
    {
      "cell_type": "code",
      "metadata": {
        "id": "HoKPksUD96Mb",
        "colab": {
          "base_uri": "https://localhost:8080/"
        },
        "outputId": "26f46026-76cc-409e-e325-f38ad4e4a217"
      },
      "source": [
        "# ****************************************\n",
        "# **請勿將本次資料集散播、用於非學術用途**\n",
        "# ****************************************\n",
        "\n",
        "# 執行即代表同意將會合法、合理使用資料集\n",
        "\n",
        "!gdown --id 1gMpt0CdlPjr1cR3HwDqumeKaucrSYhhe --output \"./Eileen_Legendary.txt\"\n",
        "\n",
        "# !wget -O Eileen_Legendary.txt \"http://140.115.82.54/NN/Recurrent/Eileen_Legendary.txt\""
      ],
      "execution_count": null,
      "outputs": [
        {
          "output_type": "stream",
          "name": "stdout",
          "text": [
            "/usr/local/lib/python3.7/dist-packages/gdown/cli.py:131: FutureWarning: Option `--id` was deprecated in version 4.3.1 and will be removed in 5.0. You don't need to pass it anymore to use a file ID.\n",
            "  category=FutureWarning,\n",
            "Downloading...\n",
            "From: https://drive.google.com/uc?id=1gMpt0CdlPjr1cR3HwDqumeKaucrSYhhe\n",
            "To: /content/Eileen_Legendary.txt\n",
            "100% 818k/818k [00:00<00:00, 73.3MB/s]\n"
          ]
        }
      ]
    },
    {
      "cell_type": "markdown",
      "metadata": {
        "id": "_aEUrr67TzFb"
      },
      "source": [
        "## 1. 讀入Package"
      ]
    },
    {
      "cell_type": "code",
      "metadata": {
        "id": "pPCmAo0Q_G3i"
      },
      "source": [
        "import numpy as np\n",
        "import tensorflow as tf\n",
        "import pandas as pd\n",
        "from tensorflow import keras\n",
        "from tensorflow.keras import layers\n",
        "import os\n",
        "import matplotlib.pyplot as plt"
      ],
      "execution_count": null,
      "outputs": []
    },
    {
      "cell_type": "markdown",
      "metadata": {
        "id": "Y550TvUGT9xv"
      },
      "source": [
        "## 2. 取得資料集"
      ]
    },
    {
      "cell_type": "code",
      "metadata": {
        "id": "1Mbvzh_9_Tz8",
        "colab": {
          "base_uri": "https://localhost:8080/"
        },
        "outputId": "2358630a-9d72-41c8-d556-c1b142120928"
      },
      "source": [
        "# 作業之一就是試試看其他本小說\n",
        "\n",
        "book = \"\"\n",
        "with open(\"./books/曹雪芹《紅樓夢》.txt\",\"r\",encoding=\"utf8\") as file:\n",
        "  for line in file:\n",
        "    book += line\n",
        "\n",
        "book_length = len(book)\n",
        "unique_words = set(book)\n",
        "print(f\"曹雪芹紅樓夢共有 {book_length} 字詞\")\n",
        "print(f\"包含了 {len(unique_words)} 個獨一無二的字 (含標點符號)\\n\")\n",
        "print(book[0:500])"
      ],
      "execution_count": null,
      "outputs": [
        {
          "output_type": "stream",
          "name": "stdout",
          "text": [
            "曹雪芹紅樓夢共有 874680 字詞\n",
            "包含了 4548 個獨一無二的字 (含標點符號)\n",
            "\n",
            "\n",
            "《二○一六年十月七日版》\n",
            "《好讀書櫃》經典版\n",
            "第一回 甄士隱夢幻識通靈 賈雨村風塵懷閨秀\n",
            "此開卷第一回也。作者自云：因曾歷過一番夢幻之後，故將真事隱去，而借「通靈」之說，撰此《石頭記》一書也。故曰「甄士隱」云云。但書中所記何事何人？自又云：「今風塵碌碌，一事無成，忽念及當日所有之女子，一一細考較去，覺其行止見識，皆出於我之上。何我堂堂鬚眉，誠不若彼裙釵哉？實愧則有餘，悔又無益之大無可如何之日也！當此，則自欲將已往所賴天恩祖德，錦衣紈袴……之時，飫甘饜肥之日，背父兄教育之恩，負師友規談之德，以至今日一技無成，半生潦倒之罪，編述一集，以告天下人：我之罪固不免，然閨閣中本自歷歷有人，萬不可因我之不肖，自護己短，一併使其泯滅也。雖今日之茅椽蓬牖，瓦灶繩床，其晨夕風露，階柳庭花，亦未有妨我之襟懷筆墨者。雖我未學，下筆無文，又何妨用假語村言，敷演出一段故事來，亦可使閨閣昭傳，復可悅世之目，破人愁悶，不亦宜乎？」故曰「賈雨村」云云。\n",
            "此回中凡用「夢」用「幻」等字，是提醒閱者眼目，亦是此書立意本旨。\n",
            "列位看官：你道此書從何而來？說起根由雖近荒唐，細按則深有趣味。待在下將此來歷注明，方使閱者了然不惑。\n"
          ]
        }
      ]
    },
    {
      "cell_type": "markdown",
      "metadata": {
        "id": "Anv0UglDUQk2"
      },
      "source": [
        "## 3. 資料前處理\n",
        "\n",
        "文字前處理有一堆方法、作法:\n",
        "* 切字\n",
        "* 還原\n",
        "* 清除特殊字符\n",
        "* 清除不常見字符 (StopWord)\n",
        "\n",
        "\n",
        "我這裡僅使用去除不常見的字(StopWord)"
      ]
    },
    {
      "cell_type": "code",
      "metadata": {
        "id": "tQDQ8hxBEa6d"
      },
      "source": [
        "# 計算字數統計\n",
        "words_count = {}\n",
        "for w in book:\n",
        "  if w in words_count:\n",
        "    words_count[w] += 1\n",
        "  else:\n",
        "    words_count[w] = 1\n",
        "\n",
        "words_count = sorted(words_count.items(),key=lambda x:x[1])"
      ],
      "execution_count": null,
      "outputs": []
    },
    {
      "cell_type": "code",
      "metadata": {
        "colab": {
          "base_uri": "https://localhost:8080/"
        },
        "id": "VT90O679Fe0T",
        "outputId": "07f2e2f5-45cb-4f72-dbc1-93a80716d02b"
      },
      "source": [
        "stop_word = 8\n",
        "unique_words = [w_tup[0] for w_tup in words_count if w_tup[1]>stop_word]\n",
        "print(f\"去除次數小於{stop_word}的文字剩餘 : {len(unique_words)}\")"
      ],
      "execution_count": null,
      "outputs": [
        {
          "output_type": "stream",
          "name": "stdout",
          "text": [
            "去除次數小於8的文字剩餘 : 2590\n"
          ]
        }
      ]
    },
    {
      "cell_type": "code",
      "metadata": {
        "colab": {
          "base_uri": "https://localhost:8080/"
        },
        "id": "e_uP5gOVIy2K",
        "outputId": "95746649-6913-4090-8f72-6981818b72fb"
      },
      "source": [
        "print(f\"原本曹雪芹紅樓夢共有 {book_length} 字詞\")\n",
        "print(f\"去除不常出現的文字後\")\n",
        "book = [w for w in book if w in unique_words]\n",
        "print(f\"剩餘{len(book)}個字\")"
      ],
      "execution_count": null,
      "outputs": [
        {
          "output_type": "stream",
          "name": "stdout",
          "text": [
            "原本曹雪芹紅樓夢共有 874680 字詞\n",
            "去除不常出現的文字後\n",
            "剩餘868770個字\n"
          ]
        }
      ]
    },
    {
      "cell_type": "code",
      "metadata": {
        "colab": {
          "base_uri": "https://localhost:8080/"
        },
        "id": "6LP0BwFDAmcS",
        "outputId": "f044b61c-2b0e-4e0f-839a-e0e63c249fbe"
      },
      "source": [
        "# 文字轉數字(index)\n",
        "word_2_index = {word:index for index,word in enumerate(unique_words)}\n",
        "index_2_word = {word_2_index[word]:word for word in word_2_index}\n",
        "\n",
        "book_2_index = [word_2_index[w] for w in book]\n",
        "\n",
        "print(\"原始文字 : \")\n",
        "print(book[:40])\n",
        "print(\"-\"*40)\n",
        "print(\"轉成index : \")\n",
        "print({word_2_index[w] for w in book[:40]})"
      ],
      "execution_count": null,
      "outputs": [
        {
          "output_type": "stream",
          "name": "stdout",
          "text": [
            "原始文字 : \n",
            "['\\n', '《', '二', '一', '六', '年', '十', '月', '七', '日', '》', '\\n', '《', '好', '讀', '書', '櫃', '》', '經', '典', '\\n', '第', '一', '回', ' ', '甄', '士', '隱', '夢', '幻', '識', '通', '靈', ' ', '賈', '雨', '村', '風', '塵', '懷']\n",
            "----------------------------------------\n",
            "轉成index : \n",
            "{2304, 2562, 2053, 2441, 2057, 2316, 2188, 1555, 2584, 1825, 2552, 1834, 1842, 691, 1978, 2371, 1483, 2123, 1364, 2136, 2137, 2010, 859, 1883, 2399, 2529, 2021, 2535, 2536, 2544, 1904, 1905, 2424, 1659}\n"
          ]
        }
      ]
    },
    {
      "cell_type": "code",
      "metadata": {
        "id": "H-KDv4kqgxLH"
      },
      "source": [
        "def ind2word_seq(seq):\n",
        "  return [index_2_word[i] for i in seq]"
      ],
      "execution_count": null,
      "outputs": []
    },
    {
      "cell_type": "code",
      "metadata": {
        "colab": {
          "base_uri": "https://localhost:8080/"
        },
        "id": "_aDyjJymDmVv",
        "outputId": "32a44371-067a-4b32-b2ca-8f669e948631"
      },
      "source": [
        "# 設定輸入模型長度\n",
        "seq_len = 20\n",
        "characters = tf.data.Dataset.from_tensor_slices(book_2_index)\n",
        "# characters = characters.map(lambda w:word_2_index[w.item()])\n",
        "\n",
        "sequences = characters.batch(seq_len+1,drop_remainder=True)\n",
        "\n",
        "for seq in sequences.take(2):\n",
        "  print(seq.shape)\n",
        "  print(seq)\n",
        "  print([index_2_word[i] for i in seq.numpy()])"
      ],
      "execution_count": null,
      "outputs": [
        {
          "output_type": "stream",
          "name": "stdout",
          "text": [
            "(21,)\n",
            "tf.Tensor(\n",
            "[2544 2136 2529 2584 1904 2441 2424 2399 1883 2536 2137 2544 2136 2552\n",
            " 1834 2371  859 2137 2316 1364 2544], shape=(21,), dtype=int32)\n",
            "['\\n', '《', '二', '一', '六', '年', '十', '月', '七', '日', '》', '\\n', '《', '好', '讀', '書', '櫃', '》', '經', '典', '\\n']\n",
            "(21,)\n",
            "tf.Tensor(\n",
            "[2057 2584 2535  691 1842 2053 1905 1978 1483 1659 2010 2021  691 2562\n",
            " 2188 2123 2304 1555 1825 1294 1097], shape=(21,), dtype=int32)\n",
            "['第', '一', '回', ' ', '甄', '士', '隱', '夢', '幻', '識', '通', '靈', ' ', '賈', '雨', '村', '風', '塵', '懷', '閨', '秀']\n"
          ]
        }
      ]
    },
    {
      "cell_type": "markdown",
      "metadata": {
        "id": "1-dxqFkd7RU1"
      },
      "source": [
        "![](https://i.imgur.com/YMVMFEJ.png)\n"
      ]
    },
    {
      "cell_type": "code",
      "metadata": {
        "colab": {
          "base_uri": "https://localhost:8080/"
        },
        "id": "jhFC16MdLONw",
        "outputId": "38dce914-b620-45d2-fa07-f016e6c518d5"
      },
      "source": [
        "# 做input、target切割\n",
        "def split_input_target(seq):\n",
        "  input_txt = seq[:-1]\n",
        "  target_txt = seq[1:]\n",
        "  return input_txt,target_txt\n",
        "\n",
        "split_input_target(list(\"Tensorflow\"))"
      ],
      "execution_count": null,
      "outputs": [
        {
          "output_type": "execute_result",
          "data": {
            "text/plain": [
              "(['T', 'e', 'n', 's', 'o', 'r', 'f', 'l', 'o'],\n",
              " ['e', 'n', 's', 'o', 'r', 'f', 'l', 'o', 'w'])"
            ]
          },
          "metadata": {},
          "execution_count": 22
        }
      ]
    },
    {
      "cell_type": "markdown",
      "metadata": {
        "id": "F-O91DUM_uYV"
      },
      "source": [
        "![](https://i.imgur.com/YoHWLkf.png)\n"
      ]
    },
    {
      "cell_type": "code",
      "metadata": {
        "colab": {
          "base_uri": "https://localhost:8080/"
        },
        "id": "qnJ4Bdj2gZ1V",
        "outputId": "bbc2ca29-5418-4c8b-9d0a-79000d205484"
      },
      "source": [
        "dataset = sequences.map(split_input_target)\n",
        "\n",
        "for input_example,target_exaple in dataset.take(1):\n",
        "  print(\"Input :\", ind2word_seq(input_example.numpy()))\n",
        "  print(\"Target:\", ind2word_seq(target_exaple.numpy()))\n",
        "  print(\"-\"*50)\n",
        "  print(\"Input :\", input_example.numpy())\n",
        "  print(\"Target:\", target_exaple.numpy())"
      ],
      "execution_count": null,
      "outputs": [
        {
          "output_type": "stream",
          "name": "stdout",
          "text": [
            "Input : ['\\n', '《', '二', '一', '六', '年', '十', '月', '七', '日', '》', '\\n', '《', '好', '讀', '書', '櫃', '》', '經', '典']\n",
            "Target: ['《', '二', '一', '六', '年', '十', '月', '七', '日', '》', '\\n', '《', '好', '讀', '書', '櫃', '》', '經', '典', '\\n']\n",
            "--------------------------------------------------\n",
            "Input : [2544 2136 2529 2584 1904 2441 2424 2399 1883 2536 2137 2544 2136 2552\n",
            " 1834 2371  859 2137 2316 1364]\n",
            "Target: [2136 2529 2584 1904 2441 2424 2399 1883 2536 2137 2544 2136 2552 1834\n",
            " 2371  859 2137 2316 1364 2544]\n"
          ]
        }
      ]
    },
    {
      "cell_type": "code",
      "metadata": {
        "colab": {
          "base_uri": "https://localhost:8080/"
        },
        "id": "UNivSh2Igr2-",
        "outputId": "df767fe7-f146-4f84-905f-0b820b719c4e"
      },
      "source": [
        "# 建立資料集\n",
        "# Batch size\n",
        "BATCH_SIZE = 64\n",
        "\n",
        "BUFFER_SIZE = 10000\n",
        "\n",
        "dataset = (\n",
        "    dataset\n",
        "    .shuffle(BUFFER_SIZE)\n",
        "    .batch(BATCH_SIZE, drop_remainder=True))\n",
        "\n",
        "dataset"
      ],
      "execution_count": null,
      "outputs": [
        {
          "output_type": "execute_result",
          "data": {
            "text/plain": [
              "<BatchDataset element_spec=(TensorSpec(shape=(64, 20), dtype=tf.int32, name=None), TensorSpec(shape=(64, 20), dtype=tf.int32, name=None))>"
            ]
          },
          "metadata": {},
          "execution_count": 24
        }
      ]
    },
    {
      "cell_type": "markdown",
      "metadata": {
        "id": "xcDWKSbYUWWB"
      },
      "source": [
        "## 4. 建立模型\n",
        "\n",
        "![](https://i.imgur.com/TBHKuf6.png)"
      ]
    },
    {
      "cell_type": "code",
      "metadata": {
        "colab": {
          "base_uri": "https://localhost:8080/"
        },
        "id": "UkRcSZAHnxlk",
        "outputId": "3d654b7b-c196-4a5e-d019-e61b99c11cc1"
      },
      "source": [
        "# 超參數\n",
        "EMBEDDING_DIM = 512\n",
        "\n",
        "# 使用 keras 建立一個非常簡單的 LSTM 模型\n",
        "model = tf.keras.Sequential()\n",
        "model.add(\n",
        "  tf.keras.layers.Embedding(\n",
        "    input_dim=len(unique_words), \n",
        "    output_dim=EMBEDDING_DIM\n",
        "))\n",
        "model.add(\n",
        "  tf.keras.layers.LSTM(\n",
        "    units=4096, \n",
        "    return_sequences=True, \n",
        "))\n",
        "model.add(\n",
        "  tf.keras.layers.LSTM(\n",
        "    units=2048, \n",
        "    return_sequences=True,\n",
        "))  \n",
        "model.add(\n",
        "  tf.keras.layers.Dense(\n",
        "      len(unique_words),activation=\"softmax\"))\n",
        "\n",
        "model.summary()"
      ],
      "execution_count": null,
      "outputs": [
        {
          "output_type": "stream",
          "name": "stdout",
          "text": [
            "Model: \"sequential\"\n",
            "_________________________________________________________________\n",
            " Layer (type)                Output Shape              Param #   \n",
            "=================================================================\n",
            " embedding (Embedding)       (None, None, 512)         1326080   \n",
            "                                                                 \n",
            " lstm (LSTM)                 (None, None, 4096)        75513856  \n",
            "                                                                 \n",
            " lstm_1 (LSTM)               (None, None, 2048)        50339840  \n",
            "                                                                 \n",
            " dense (Dense)               (None, None, 2590)        5306910   \n",
            "                                                                 \n",
            "=================================================================\n",
            "Total params: 132,486,686\n",
            "Trainable params: 132,486,686\n",
            "Non-trainable params: 0\n",
            "_________________________________________________________________\n"
          ]
        }
      ]
    },
    {
      "cell_type": "code",
      "metadata": {
        "colab": {
          "base_uri": "https://localhost:8080/"
        },
        "id": "YKiszF5doFGz",
        "outputId": "9df24719-e08a-4906-a9a1-dca3f4855cce"
      },
      "source": [
        "# 查看模型的輸入、輸出 shape\n",
        "for input_example,target_exaple in dataset.take(1):\n",
        "  predict_example = model(input_example)\n",
        "  print(f\"Model input shape : {input_example.shape}\")\n",
        "  print(f\"Model output shape : {predict_example.shape}\")\n",
        "  print(f\"Model target shape : {target_exaple.shape}\")"
      ],
      "execution_count": null,
      "outputs": [
        {
          "output_type": "stream",
          "name": "stdout",
          "text": [
            "Model input shape : (64, 20)\n",
            "Model output shape : (64, 20, 2590)\n",
            "Model target shape : (64, 20)\n"
          ]
        }
      ]
    },
    {
      "cell_type": "code",
      "metadata": {
        "colab": {
          "base_uri": "https://localhost:8080/"
        },
        "id": "CsN6Zz4NReV4",
        "outputId": "a669e284-8f24-4422-f3f0-ae62e3bd5188"
      },
      "source": [
        "print(\"原本的中文字序列：\")\n",
        "[print(index_2_word[ind],end=\"\") for ind in input_example[0].numpy()]\n",
        "print()\n",
        "print(\"-\"*40)\n",
        "print(\"輸入尚未訓練的model後獲得：\")\n",
        "print()\n",
        "\n",
        "predict_words = tf.math.argmax(predict_example[0],-1)\n",
        "[print(index_2_word[ind],end=\"\") for ind in predict_words.numpy()]\n",
        "print()"
      ],
      "execution_count": null,
      "outputs": [
        {
          "output_type": "stream",
          "name": "stdout",
          "text": [
            "原本的中文字序列：\n",
            "留飯，不可久待，遂從夾道中自便出門去了。\n",
            "----------------------------------------\n",
            "輸入尚未訓練的model後獲得：\n",
            "\n",
            "仁聘豪豪豪豪豪豪豪豪豪周周周周虔辯辯辯辯\n"
          ]
        }
      ]
    },
    {
      "cell_type": "markdown",
      "metadata": {
        "id": "peEbrfDrUfuz"
      },
      "source": [
        "## 5. 制定訓練計畫並訓練\n",
        "\n",
        "* [sparse_categorical_crossentropy](https://www.tensorflow.org/api_docs/python/tf/keras/losses/sparse_categorical_crossentropy) V.S. [categorical_crossentropy](https://www.tensorflow.org/api_docs/python/tf/keras/losses/categorical_crossentropy)\n",
        "\n",
        "```python=\n",
        "# categorical_crossentropy\n",
        "y_true = [[0, 1, 0], [0, 0, 1]]\n",
        "y_pred = [[0.05, 0.95, 0], [0.1, 0.8, 0.1]]\n",
        "assert loss.shape == (2,)\n",
        "\n",
        "# sparse_categorical_crossentropy\n",
        "y_true = [1, 2]\n",
        "y_pred = [[0.05, 0.95, 0], [0.1, 0.8, 0.1]]\n",
        "assert loss.shape == (2,)\n",
        "\n",
        "```\n"
      ]
    },
    {
      "cell_type": "code",
      "metadata": {
        "id": "unPfQAQBonFj"
      },
      "source": [
        "model.compile(loss=\"sparse_categorical_crossentropy\",optimizer=\"adam\")"
      ],
      "execution_count": null,
      "outputs": []
    },
    {
      "cell_type": "code",
      "metadata": {
        "colab": {
          "base_uri": "https://localhost:8080/"
        },
        "id": "5IW5xiiMpJhJ",
        "outputId": "fecad988-12a1-4933-dc98-882f9d4028a1"
      },
      "source": [
        "EPOCHS = 20\n",
        "history = model.fit(\n",
        "    dataset, # 前面使用 tf.data 建構的資料集\n",
        "    epochs=EPOCHS,\n",
        ")"
      ],
      "execution_count": null,
      "outputs": [
        {
          "output_type": "stream",
          "name": "stdout",
          "text": [
            "Epoch 1/20\n",
            "646/646 [==============================] - 468s 718ms/step - loss: 5.1719\n",
            "Epoch 2/20\n",
            "646/646 [==============================] - 462s 714ms/step - loss: 4.3325\n",
            "Epoch 3/20\n",
            "646/646 [==============================] - 461s 712ms/step - loss: 4.0287\n",
            "Epoch 4/20\n",
            "646/646 [==============================] - 460s 711ms/step - loss: 3.8054\n",
            "Epoch 5/20\n",
            "646/646 [==============================] - 459s 710ms/step - loss: 3.5941\n",
            "Epoch 6/20\n",
            "646/646 [==============================] - 459s 709ms/step - loss: 3.3648\n",
            "Epoch 7/20\n",
            "646/646 [==============================] - 458s 708ms/step - loss: 3.0935\n",
            "Epoch 8/20\n",
            "646/646 [==============================] - 458s 708ms/step - loss: 2.7703\n",
            "Epoch 9/20\n",
            "646/646 [==============================] - 458s 708ms/step - loss: 2.3883\n",
            "Epoch 10/20\n",
            "646/646 [==============================] - 458s 709ms/step - loss: 1.9600\n",
            "Epoch 11/20\n",
            "646/646 [==============================] - 458s 708ms/step - loss: 1.5162\n",
            "Epoch 12/20\n",
            "646/646 [==============================] - 458s 709ms/step - loss: 1.1061\n",
            "Epoch 13/20\n",
            "646/646 [==============================] - 458s 708ms/step - loss: 0.7828\n",
            "Epoch 14/20\n",
            "646/646 [==============================] - 458s 708ms/step - loss: 0.5782\n",
            "Epoch 15/20\n",
            "646/646 [==============================] - 458s 708ms/step - loss: 0.4743\n",
            "Epoch 16/20\n",
            "646/646 [==============================] - 459s 710ms/step - loss: 0.4273\n",
            "Epoch 17/20\n",
            "646/646 [==============================] - 462s 714ms/step - loss: 0.4065\n",
            "Epoch 18/20\n",
            "646/646 [==============================] - 461s 713ms/step - loss: 0.3989\n",
            "Epoch 19/20\n",
            "646/646 [==============================] - 461s 712ms/step - loss: 0.3985\n",
            "Epoch 20/20\n",
            "646/646 [==============================] - 461s 713ms/step - loss: 0.4031\n"
          ]
        }
      ]
    },
    {
      "cell_type": "markdown",
      "metadata": {
        "id": "J-DD-OibUj64"
      },
      "source": [
        "## 6. 衡量模型"
      ]
    },
    {
      "cell_type": "code",
      "metadata": {
        "id": "xxbK80fXpOWD",
        "colab": {
          "base_uri": "https://localhost:8080/",
          "height": 295
        },
        "outputId": "36a4c0ac-7416-469a-ba67-fe65647b0612"
      },
      "source": [
        "plt.plot(history.history['loss'])\n",
        "plt.title('model loss')\n",
        "plt.ylabel('loss')\n",
        "plt.xlabel('epoch')\n",
        "\n",
        "plt.show()"
      ],
      "execution_count": null,
      "outputs": [
        {
          "output_type": "display_data",
          "data": {
            "text/plain": [
              "<Figure size 432x288 with 1 Axes>"
            ],
            "image/png": "[encoded data removed]"
          },
          "metadata": {
            "needs_background": "light"
          }
        }
      ]
    },
    {
      "cell_type": "code",
      "metadata": {
        "id": "A3elbMNg4z4N",
        "colab": {
          "base_uri": "https://localhost:8080/"
        },
        "outputId": "b8af67d4-80a3-4e77-ced7-d5ca036d1ed5"
      },
      "source": [
        "after_train_predictions = model(input_example)\n",
        "after_sampled_indices = tf.argmax(after_train_predictions[0],1)\n",
        "\n",
        "print(\"原本的中文字序列：\")\n",
        "[print(index_2_word[ind],end=\"\") for ind in input_example[0].numpy()]\n",
        "print()\n",
        "print(\"-\"*40)\n",
        "print(\"輸入進訓練後的model後獲得：\")\n",
        "print()\n",
        "\n",
        "[print(index_2_word[ind],end=\"\") for ind in after_sampled_indices.numpy()]\n",
        "print()"
      ],
      "execution_count": null,
      "outputs": [
        {
          "output_type": "stream",
          "name": "stdout",
          "text": [
            "原本的中文字序列：\n",
            "留飯，不可久待，遂從夾道中自便出門去了。\n",
            "----------------------------------------\n",
            "輸入進訓練後的model後獲得：\n",
            "\n",
            "神，不可久待，遂從夾道中自便出門去了。士\n"
          ]
        }
      ]
    },
    {
      "cell_type": "markdown",
      "metadata": {
        "id": "v-ZgfcpVUpbc"
      },
      "source": [
        "## 7. 做預測\n",
        "\n",
        "![](https://i.imgur.com/YsOj6Mw.png)\n",
        "\n",
        "在實際生成文字時，我們會想要增加一些隨機性。比如”天天出去” 不加入隨機 “天天天天” 如果我們全部輸出的字都是取softmax最大可能性，則一個訓練完美的model會把整本書給輸出出來。但是我們要的是，希望電腦在最大可能性的幾個字中隨機挑選一個字出來。\n",
        "\n",
        "tf.random.categorical 會根據softmax機率後隨機挑選字，但是我們不希望因為模型很爛導致不合理的字被選中，因此我們會除上一個temperature來增加可能字的比重。\n",
        "\n",
        "EX: \"天天出去\" 預測下一個字\n",
        "1. 玩 : 0.3 \n",
        "2. 天 : 0.1 \n",
        "3. 浪 : 0.4 \n",
        "\n",
        "\"天\"有的機率被印出，我們不希望。所以我們可以在每一個機率除上一個temperature(0.01)\n",
        "1. 玩 : 30 \n",
        "2. 天 : 10 \n",
        "3. 浪 : 40 \n",
        "原本\"浪\"跟\"天\"差0.3，除temperature後差30\n",
        "\n"
      ]
    },
    {
      "cell_type": "code",
      "metadata": {
        "id": "b3ryhOIg4-qB"
      },
      "source": [
        "# 預測文字，並把預測文字循環當作下一次的輸入\n",
        "\n",
        "# 設定你的temperature\n",
        "temperature = 0.01\n",
        "\n",
        "def generateWords(input,words=500):\n",
        "  [print(index_2_word[ind],end=\"\") for ind in input]\n",
        "  for i in range(words):\n",
        "    next_input = tf.expand_dims(input,axis=0)\n",
        "    predicts = model(next_input)\n",
        "    predicts = predicts[:,-1,:]\n",
        "    predicts /= temperature\n",
        "    result = tf.random.categorical(\n",
        "        predicts,num_samples=1\n",
        "    )\n",
        "    chinese_ind = tf.squeeze(result).numpy()\n",
        "    print(index_2_word[chinese_ind],end=\"\")\n",
        "    input = input+[chinese_ind]\n",
        "    input = input[-seq_len:]\n",
        "\n"
      ],
      "execution_count": null,
      "outputs": []
    },
    {
      "cell_type": "code",
      "metadata": {
        "id": "l7ELuAjW3rKW",
        "colab": {
          "base_uri": "https://localhost:8080/"
        },
        "outputId": "ab58249a-5c58-4573-f0ea-5d28d67d580c"
      },
      "source": [
        "init_seq = \"劉姥姥\"\n",
        "init_seq_ind = [word_2_index[w] for w in init_seq]\n",
        "input = init_seq_ind[-seq_len:]\n",
        "\n",
        "generateWords(input,500)"
      ],
      "execution_count": null,
      "outputs": [
        {
          "output_type": "stream",
          "name": "stdout",
          "text": [
            "劉姥姥道：「說著瞧罷。」於是兩人各自走開。\n",
            "這裏尤二姐亦不答言，只有賈璉、賈蘭等人來了，便和賈蘭道：「你們都是仁莊人，只怕他們爺兒兩個權進園，你就是賊一輩子的修活，活了也可以使得。若是別了，咱們先前放聲大兒。你可以不用說那些話。你是誰，就叫賴大拿了去罷。」襲人道：「你要不去，就在這裏住下。」那人道：「我們的籤最是靈的，所以叫你們也多謝。你要攆她，你只管放心，有我呢。」一面說著，一面又取不來。一時擺上飯來，寶玉也不吃飯，便坐下了，仍是悶悶的歪在床上，見了雪雁，便跑進屋來。只見寶釵睡了，因說道：「妹妹的病也不用別的了。」寶玉道：「你也不知道，我是不中用的。就是我在這裏看著的。不過是借一兩件事來，就不該早前留神，說有事回太太。今日你問，你自己去了。」眾人都道：「也要才散的，只管送去。」探春道：「怎麼也不曾告訴他們。」賈政道：「你們不知道的，只有一個蒲團，一個瓢兒還好，我就沒看見你。」\n",
            "寶玉聽了，喜得眉開眼笑，說道：「我卻沒有聽見，薛大爺在這裏照應，還有一個死呢。」寶玉道：「也不是做詩。」襲人道：「只是不知道，大約別的，咱們說不中用，就請太太的安。」鳳姐道：「我也正想著打發人來瞧，少不得今兒說我的父"
          ]
        }
      ]
    },
    {
      "cell_type": "code",
      "metadata": {
        "id": "LdT8wg_P6CtF"
      },
      "source": [
        "# 不要執行這一個block\n",
        "import time\n",
        "while True:\n",
        "  time.sleep(5)\n",
        "  pass"
      ],
      "execution_count": null,
      "outputs": []
    },
    {
      "cell_type": "markdown",
      "metadata": {
        "id": "i-_4vCX4e3ZA"
      },
      "source": [
        "## 作業2.1 (30%)\n",
        "\n",
        "使用[爬蟲程式](https://colab.research.google.com/drive/1f_HvQEvgkJPFc473TlA-I_3EmkThA2SR?usp=sharing)來取得一個新的文本資料集，或是不管你從哪裡取得的資料集也可以(不要再張愛玲了，不限中英文)。然後丟入這個模型來看看AI生成文字的成果，將**結果**與**你的心得**(不是機器產生的心得)，貼上pdf。\n",
        "\n",
        "請隨意修改本colab的模型與參數來達到更好的結果。\n",
        "\n",
        "資料集越有趣越好，比如你可以去爬PTT文章來製作廢文產生器。去爬Dcard製作幻想文產生器。"
      ]
    },
    {
      "cell_type": "code",
      "metadata": {
        "id": "erwsMKL08Ql9"
      },
      "source": [
        "import requests\n",
        "from lxml import etree\n",
        "import re \n",
        "import urllib\n",
        "from tqdm import tqdm\n",
        "import os\n",
        "\n",
        "if(os.path.isdir(\"./books\") == False):\n",
        "  os.mkdir(\"./books\")"
      ],
      "execution_count": null,
      "outputs": []
    },
    {
      "cell_type": "code",
      "source": [
        "def get_book_information(url):\n",
        "  url_chinese = urllib.parse.unquote(url)\n",
        "  url_re = re.compile(r'com/(.*)\\.php')\n",
        "  url_re2 = re.compile(r'.*\\.php')\n",
        "  url_re3 = re.compile(r'\\.(html|xhtml)')\n",
        "  save_path = \"./books/\"+url_re.search(url_chinese).group(1).strip()+\".txt\"\n",
        "  url_book_domain = url_re2.match(url).group(0)\n",
        "  html_format = url_re3.search(url).group(0)\n",
        "  print(\"儲存位置: \"+save_path)\n",
        "  return save_path,url_book_domain,html_format"
      ],
      "metadata": {
        "id": "eam0KwAYUQ7G"
      },
      "execution_count": null,
      "outputs": []
    },
    {
      "cell_type": "code",
      "source": [
        "def get_pages_of_book(url):\n",
        "  response = requests.get(url+\"#book_toc\")\n",
        "  html = etree.HTML(response.content)\n",
        "  content_number = len(html.xpath('.//div[@data-role=\"content\"]//ul/li'))\n",
        "  return content_number"
      ],
      "metadata": {
        "id": "8kvlTkC3US6S"
      },
      "execution_count": null,
      "outputs": []
    },
    {
      "cell_type": "code",
      "source": [
        "def download_one_book(url):\n",
        "  save_path,url_book_domain,html_format = get_book_information(url)\n",
        "  content_number = get_pages_of_book(url)\n",
        "  page_start = 2 if(html_format == \".html\") else 1\n",
        "  page_end = page_start+content_number\n",
        "  file = open(save_path,\"w\",encoding=\"utf8\")\n",
        "  for page in tqdm(range(page_start,page_end)):\n",
        "      if(html_format == \".html\"):\n",
        "          url_ = url_book_domain+\"/\"+(str(page) if page>9 else \"0\"+str(page))+html_format\n",
        "      else:\n",
        "          url_ = url_book_domain+\"/\"+str(page)+html_format\n",
        "      response = requests.get(url_)\n",
        "      html = etree.HTML(response.content.decode(\"utf-8\",\"replace\"))\n",
        "      if(html_format == \".html\"):\n",
        "          content = html.xpath('.//div[@data-role=\"content\"]/p/text()')\n",
        "      else:\n",
        "          content = html.xpath('.//div[@data-role=\"content\"]/div/text()')\n",
        "      assey = [a.strip().replace(\"\\u3000\",\" \") for a in content]\n",
        "      file.write(\"\\n\".join(assey)+\"\\n\")\n",
        "  file.flush()\n",
        "  file.close()"
      ],
      "metadata": {
        "id": "3eNLc0IeUZsv"
      },
      "execution_count": null,
      "outputs": []
    },
    {
      "cell_type": "code",
      "source": [
        "\n",
        "\n",
        "url = \"https://www.bookscool.com/%E6%9B%B9%E9%9B%AA%E8%8A%B9%E3%80%8A%E7%B4%85%E6%A8%93%E5%A4%A2%E3%80%8B.php/1.xhtml\"\n",
        "download_one_book(url)"
      ],
      "metadata": {
        "colab": {
          "base_uri": "https://localhost:8080/"
        },
        "id": "KWeQlqnEUai7",
        "outputId": "7debd194-31c3-4a3e-bf62-e082094243ce"
      },
      "execution_count": null,
      "outputs": [
        {
          "output_type": "stream",
          "name": "stdout",
          "text": [
            "儲存位置: ./books/曹雪芹《紅樓夢》.txt\n"
          ]
        },
        {
          "output_type": "stream",
          "name": "stderr",
          "text": [
            "100%|██████████| 120/120 [01:47<00:00,  1.12it/s]\n"
          ]
        }
      ]
    }
  ]
}