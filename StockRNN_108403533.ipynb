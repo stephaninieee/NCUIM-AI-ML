{
  "nbformat": 4,
  "nbformat_minor": 0,
  "metadata": {
    "colab": {
      "name": "StockRNN-108403533.ipynb",
      "provenance": [],
      "collapsed_sections": []
    },
    "kernelspec": {
      "name": "python3",
      "display_name": "Python 3"
    },
    "accelerator": "GPU"
  },
  "cells": [
    {
      "cell_type": "markdown",
      "metadata": {
        "id": "iRAa8Hh-d4F3"
      },
      "source": [
        "![](https://i.imgur.com/3twMqGw.png)\n",
        "\n",
        "# 作業2 : 股票預測\n",
        "\n",
        "## **請挑選一家公司來做預測**\n",
        "\n",
        "資料集: [鉅亨網](https://www.cnyes.com/)\n",
        "\n",
        "> **資料集說明**\n",
        "\n",
        "別人恐懼我貪婪，一張不賣奇蹟來。\n",
        "\n",
        ">**作業說明**\n",
        "\n",
        "**第一步驟**: 左上角 檔案->在雲端硬碟建立副本。\n",
        "\n",
        "**第二步驟**: 右上角 共用->取得連結->任何知道這個連結的人都能編輯\n",
        "\n",
        "**第三步驟**: 左上角 執行階段->更變執行類型->GPU。 可以加快模型速度\n",
        "\n",
        "**第四步驟**: 檔案名稱，請填寫你的學號，把副本上下引號刪掉\n",
        "\n",
        "請 **隨意修改** 這個colab的程式來完成訓練RNN模型。**不必一定要照著todo提示走。**\n",
        "繳交時記得改檔案標題的學號。\n",
        "\n",
        "這次作業的重點在於RNN的維度問題。\n",
        "\n",
        "> **作業限制**\n",
        "\n",
        "1. 不要動資料集、不要在訓練時偷看test data\n",
        "2. 模型請手刻、手疊，**不要用Transfer Learning**，你可以手刻transformer。\n",
        "3. **不要抄襲**\n",
        "\n",
        "> **作業繳交**\n",
        "\n",
        "1. 完成訓練後保存output結果，更改**檔名學號**，左上角 檔案->下載 成ipynb檔。\n",
        "2. 交一個**pdf**檔，裡面需要附上**你的作業colab連結(設為可編輯、所有人觀看)**、姓名學號年級、過程和執行結果的截圖，並說明你程式撰寫的過程、本次作業心得(字數不限)。\n",
        "3. 上述三個檔案繳交至ee-class。(Text Generation、Stock、PDF)\n",
        "\n",
        "> **繳交期限**\n",
        "\n",
        "1. 電子商務技術(IM5002): 期限至2021/5/16(一) 23:59分\n",
        "2. 人工智慧與機器學習(IM3078): 期限至2022/5/16(一) 23:59分\n",
        "3. 電子商務智慧技術(IMA0200): 期限至2022/5/14(六) 23:59分\n",
        "\n",
        "> **算分標準**\n",
        "\n",
        "Text Generation(20) + Stock RNN(30) + Predict function(20分) + 30分文件\n",
        "1.  [Text Generation](https://colab.research.google.com/drive/1bMkAUaiivMaOr8Sd1Ui-KJeoFImEVUqA?usp=sharing) 換個其他資料集來訓練，完成就20分\n",
        "2. Stock RNN完成模型就30分\n",
        "3. predit function有寫出來就20分(第七段)\n",
        "4. 30分是文件分數\n",
        "5. 記得把以上評分標準截圖、並與你的心得一起貼上pdf\n",
        "\n",
        "有問題再來信助教: chiachentu@g.ncu.edu.tw(凃家甄)、lufor129@g.ncu.edu.tw(黃智輝)\n"
      ]
    },
    {
      "cell_type": "code",
      "metadata": {
        "id": "RURvH0RWNsOQ",
        "colab": {
          "base_uri": "https://localhost:8080/"
        },
        "outputId": "a3d4d530-8474-4e23-cf0b-25123691fbe7"
      },
      "source": [
        "# 太多人同時存取可能會報cannot retrieve file error\n",
        "# 點擊you may still be able to access 下面那個連結再自行上傳檔案即可\n",
        "\n",
        "import os\n",
        "\n",
        "if(os.path.isfile(\"./train.csv\") == False or os.path.isfile(\"./test.csv\") == False):\n",
        "  # !wget -O train.csv \"http://140.115.82.54/NN/Recurrent/train.csv\"\n",
        "  # !wget -O test.csv \"http://140.115.82.54/NN/Recurrent/test.csv\"\n",
        "  !gdown --id 1iK40K9oXsmhJGs7XSn7q3I1XuPtsZiSj --output \"./train.csv\"\n",
        "  !gdown --id 1kZIgeeTnzQf6GJGJuqOe9BgkFa8qb7hJ --output \"./test.csv\""
      ],
      "execution_count": null,
      "outputs": [
        {
          "output_type": "stream",
          "name": "stdout",
          "text": [
            "/usr/local/lib/python3.7/dist-packages/gdown/cli.py:131: FutureWarning: Option `--id` was deprecated in version 4.3.1 and will be removed in 5.0. You don't need to pass it anymore to use a file ID.\n",
            "  category=FutureWarning,\n",
            "Downloading...\n",
            "From: https://drive.google.com/uc?id=1iK40K9oXsmhJGs7XSn7q3I1XuPtsZiSj\n",
            "To: /content/train.csv\n",
            "100% 138k/138k [00:00<00:00, 78.9MB/s]\n",
            "/usr/local/lib/python3.7/dist-packages/gdown/cli.py:131: FutureWarning: Option `--id` was deprecated in version 4.3.1 and will be removed in 5.0. You don't need to pass it anymore to use a file ID.\n",
            "  category=FutureWarning,\n",
            "Downloading...\n",
            "From: https://drive.google.com/uc?id=1kZIgeeTnzQf6GJGJuqOe9BgkFa8qb7hJ\n",
            "To: /content/test.csv\n",
            "100% 2.36k/2.36k [00:00<00:00, 4.21MB/s]\n"
          ]
        }
      ]
    },
    {
      "cell_type": "markdown",
      "metadata": {
        "id": "AopvjZOxYmky"
      },
      "source": [
        "## 1. 讀入Package"
      ]
    },
    {
      "cell_type": "code",
      "metadata": {
        "id": "Z6Z6H5ibOZg0"
      },
      "source": [
        "import tensorflow as tf\n",
        "from tensorflow import keras\n",
        "from tensorflow.keras import layers\n",
        "import numpy as np\n",
        "import matplotlib.pyplot as plt\n",
        "import pandas as pd\n",
        "import os\n",
        "import random\n",
        "import datetime\n",
        "from sklearn.preprocessing import MinMaxScaler"
      ],
      "execution_count": null,
      "outputs": []
    },
    {
      "cell_type": "markdown",
      "metadata": {
        "id": "1yeQBU3aYqzg"
      },
      "source": [
        "## 2. 取得資料集"
      ]
    },
    {
      "cell_type": "code",
      "metadata": {
        "id": "pF1xYGzJOiQJ",
        "colab": {
          "base_uri": "https://localhost:8080/",
          "height": 223
        },
        "outputId": "f8d8359c-220a-4c80-a7a4-67eb8106b55e"
      },
      "source": [
        "train_df = pd.read_csv(\"./train.csv\")\n",
        "train_df = train_df[::-1]\n",
        "print(\"company : \",train_df[\"company\"].unique())\n",
        "train_df.head()"
      ],
      "execution_count": null,
      "outputs": [
        {
          "output_type": "stream",
          "name": "stdout",
          "text": [
            "company :  [2317 2454 2330]\n"
          ]
        },
        {
          "output_type": "execute_result",
          "data": {
            "text/plain": [
              "      company      date  price\n",
              "6687     2317  2012/1/2   81.4\n",
              "6686     2317  2012/1/3   82.7\n",
              "6685     2317  2012/1/4   83.2\n",
              "6684     2317  2012/1/5   83.2\n",
              "6683     2317  2012/1/6   83.9"
            ],
            "text/html": [
              "\n",
              "  <div id=\"df-7d776609-f4fd-4eb7-9a71-4dfb44ab3f81\">\n",
              "    <div class=\"colab-df-container\">\n",
              "      <div>\n",
              "<style scoped>\n",
              "    .dataframe tbody tr th:only-of-type {\n",
              "        vertical-align: middle;\n",
              "    }\n",
              "\n",
              "    .dataframe tbody tr th {\n",
              "        vertical-align: top;\n",
              "    }\n",
              "\n",
              "    .dataframe thead th {\n",
              "        text-align: right;\n",
              "    }\n",
              "</style>\n",
              "<table border=\"1\" class=\"dataframe\">\n",
              "  <thead>\n",
              "    <tr style=\"text-align: right;\">\n",
              "      <th></th>\n",
              "      <th>company</th>\n",
              "      <th>date</th>\n",
              "      <th>price</th>\n",
              "    </tr>\n",
              "  </thead>\n",
              "  <tbody>\n",
              "    <tr>\n",
              "      <th>6687</th>\n",
              "      <td>2317</td>\n",
              "      <td>2012/1/2</td>\n",
              "      <td>81.4</td>\n",
              "    </tr>\n",
              "    <tr>\n",
              "      <th>6686</th>\n",
              "      <td>2317</td>\n",
              "      <td>2012/1/3</td>\n",
              "      <td>82.7</td>\n",
              "    </tr>\n",
              "    <tr>\n",
              "      <th>6685</th>\n",
              "      <td>2317</td>\n",
              "      <td>2012/1/4</td>\n",
              "      <td>83.2</td>\n",
              "    </tr>\n",
              "    <tr>\n",
              "      <th>6684</th>\n",
              "      <td>2317</td>\n",
              "      <td>2012/1/5</td>\n",
              "      <td>83.2</td>\n",
              "    </tr>\n",
              "    <tr>\n",
              "      <th>6683</th>\n",
              "      <td>2317</td>\n",
              "      <td>2012/1/6</td>\n",
              "      <td>83.9</td>\n",
              "    </tr>\n",
              "  </tbody>\n",
              "</table>\n",
              "</div>\n",
              "      <button class=\"colab-df-convert\" onclick=\"convertToInteractive('df-7d776609-f4fd-4eb7-9a71-4dfb44ab3f81')\"\n",
              "              title=\"Convert this dataframe to an interactive table.\"\n",
              "              style=\"display:none;\">\n",
              "        \n",
              "  <svg xmlns=\"http://www.w3.org/2000/svg\" height=\"24px\"viewBox=\"0 0 24 24\"\n",
              "       width=\"24px\">\n",
              "    <path d=\"M0 0h24v24H0V0z\" fill=\"none\"/>\n",
              "    <path d=\"M18.56 5.44l.94 2.06.94-2.06 2.06-.94-2.06-.94-.94-2.06-.94 2.06-2.06.94zm-11 1L8.5 8.5l.94-2.06 2.06-.94-2.06-.94L8.5 2.5l-.94 2.06-2.06.94zm10 10l.94 2.06.94-2.06 2.06-.94-2.06-.94-.94-2.06-.94 2.06-2.06.94z\"/><path d=\"M17.41 7.96l-1.37-1.37c-.4-.4-.92-.59-1.43-.59-.52 0-1.04.2-1.43.59L10.3 9.45l-7.72 7.72c-.78.78-.78 2.05 0 2.83L4 21.41c.39.39.9.59 1.41.59.51 0 1.02-.2 1.41-.59l7.78-7.78 2.81-2.81c.8-.78.8-2.07 0-2.86zM5.41 20L4 18.59l7.72-7.72 1.47 1.35L5.41 20z\"/>\n",
              "  </svg>\n",
              "      </button>\n",
              "      \n",
              "  <style>\n",
              "    .colab-df-container {\n",
              "      display:flex;\n",
              "      flex-wrap:wrap;\n",
              "      gap: 12px;\n",
              "    }\n",
              "\n",
              "    .colab-df-convert {\n",
              "      background-color: #E8F0FE;\n",
              "      border: none;\n",
              "      border-radius: 50%;\n",
              "      cursor: pointer;\n",
              "      display: none;\n",
              "      fill: #1967D2;\n",
              "      height: 32px;\n",
              "      padding: 0 0 0 0;\n",
              "      width: 32px;\n",
              "    }\n",
              "\n",
              "    .colab-df-convert:hover {\n",
              "      background-color: #E2EBFA;\n",
              "      box-shadow: 0px 1px 2px rgba(60, 64, 67, 0.3), 0px 1px 3px 1px rgba(60, 64, 67, 0.15);\n",
              "      fill: #174EA6;\n",
              "    }\n",
              "\n",
              "    [theme=dark] .colab-df-convert {\n",
              "      background-color: #3B4455;\n",
              "      fill: #D2E3FC;\n",
              "    }\n",
              "\n",
              "    [theme=dark] .colab-df-convert:hover {\n",
              "      background-color: #434B5C;\n",
              "      box-shadow: 0px 1px 3px 1px rgba(0, 0, 0, 0.15);\n",
              "      filter: drop-shadow(0px 1px 2px rgba(0, 0, 0, 0.3));\n",
              "      fill: #FFFFFF;\n",
              "    }\n",
              "  </style>\n",
              "\n",
              "      <script>\n",
              "        const buttonEl =\n",
              "          document.querySelector('#df-7d776609-f4fd-4eb7-9a71-4dfb44ab3f81 button.colab-df-convert');\n",
              "        buttonEl.style.display =\n",
              "          google.colab.kernel.accessAllowed ? 'block' : 'none';\n",
              "\n",
              "        async function convertToInteractive(key) {\n",
              "          const element = document.querySelector('#df-7d776609-f4fd-4eb7-9a71-4dfb44ab3f81');\n",
              "          const dataTable =\n",
              "            await google.colab.kernel.invokeFunction('convertToInteractive',\n",
              "                                                     [key], {});\n",
              "          if (!dataTable) return;\n",
              "\n",
              "          const docLinkHtml = 'Like what you see? Visit the ' +\n",
              "            '<a target=\"_blank\" href=https://colab.research.google.com/notebooks/data_table.ipynb>data table notebook</a>'\n",
              "            + ' to learn more about interactive tables.';\n",
              "          element.innerHTML = '';\n",
              "          dataTable['output_type'] = 'display_data';\n",
              "          await google.colab.output.renderOutput(dataTable, element);\n",
              "          const docLink = document.createElement('div');\n",
              "          docLink.innerHTML = docLinkHtml;\n",
              "          element.appendChild(docLink);\n",
              "        }\n",
              "      </script>\n",
              "    </div>\n",
              "  </div>\n",
              "  "
            ]
          },
          "metadata": {},
          "execution_count": 3
        }
      ]
    },
    {
      "cell_type": "code",
      "metadata": {
        "colab": {
          "base_uri": "https://localhost:8080/",
          "height": 223
        },
        "id": "gx0PFFHP3O2d",
        "outputId": "73438149-0fea-48a5-9280-df95f88dd932"
      },
      "source": [
        "test_df = pd.read_csv(\"./test.csv\")\n",
        "test_df = test_df[::-1]\n",
        "print(\"test data shape : \",test_df.shape)\n",
        "test_df.head()"
      ],
      "execution_count": null,
      "outputs": [
        {
          "output_type": "stream",
          "name": "stdout",
          "text": [
            "test data shape :  (117, 3)\n"
          ]
        },
        {
          "output_type": "execute_result",
          "data": {
            "text/plain": [
              "     company      date  price\n",
              "116     2317  2021/2/1  113.0\n",
              "115     2317  2021/2/2  116.5\n",
              "114     2317  2021/2/3  116.5\n",
              "113     2317  2021/2/4  114.0\n",
              "112     2317  2021/2/5  113.5"
            ],
            "text/html": [
              "\n",
              "  <div id=\"df-4671d4af-df4e-4724-a5af-c80a953389ea\">\n",
              "    <div class=\"colab-df-container\">\n",
              "      <div>\n",
              "<style scoped>\n",
              "    .dataframe tbody tr th:only-of-type {\n",
              "        vertical-align: middle;\n",
              "    }\n",
              "\n",
              "    .dataframe tbody tr th {\n",
              "        vertical-align: top;\n",
              "    }\n",
              "\n",
              "    .dataframe thead th {\n",
              "        text-align: right;\n",
              "    }\n",
              "</style>\n",
              "<table border=\"1\" class=\"dataframe\">\n",
              "  <thead>\n",
              "    <tr style=\"text-align: right;\">\n",
              "      <th></th>\n",
              "      <th>company</th>\n",
              "      <th>date</th>\n",
              "      <th>price</th>\n",
              "    </tr>\n",
              "  </thead>\n",
              "  <tbody>\n",
              "    <tr>\n",
              "      <th>116</th>\n",
              "      <td>2317</td>\n",
              "      <td>2021/2/1</td>\n",
              "      <td>113.0</td>\n",
              "    </tr>\n",
              "    <tr>\n",
              "      <th>115</th>\n",
              "      <td>2317</td>\n",
              "      <td>2021/2/2</td>\n",
              "      <td>116.5</td>\n",
              "    </tr>\n",
              "    <tr>\n",
              "      <th>114</th>\n",
              "      <td>2317</td>\n",
              "      <td>2021/2/3</td>\n",
              "      <td>116.5</td>\n",
              "    </tr>\n",
              "    <tr>\n",
              "      <th>113</th>\n",
              "      <td>2317</td>\n",
              "      <td>2021/2/4</td>\n",
              "      <td>114.0</td>\n",
              "    </tr>\n",
              "    <tr>\n",
              "      <th>112</th>\n",
              "      <td>2317</td>\n",
              "      <td>2021/2/5</td>\n",
              "      <td>113.5</td>\n",
              "    </tr>\n",
              "  </tbody>\n",
              "</table>\n",
              "</div>\n",
              "      <button class=\"colab-df-convert\" onclick=\"convertToInteractive('df-4671d4af-df4e-4724-a5af-c80a953389ea')\"\n",
              "              title=\"Convert this dataframe to an interactive table.\"\n",
              "              style=\"display:none;\">\n",
              "        \n",
              "  <svg xmlns=\"http://www.w3.org/2000/svg\" height=\"24px\"viewBox=\"0 0 24 24\"\n",
              "       width=\"24px\">\n",
              "    <path d=\"M0 0h24v24H0V0z\" fill=\"none\"/>\n",
              "    <path d=\"M18.56 5.44l.94 2.06.94-2.06 2.06-.94-2.06-.94-.94-2.06-.94 2.06-2.06.94zm-11 1L8.5 8.5l.94-2.06 2.06-.94-2.06-.94L8.5 2.5l-.94 2.06-2.06.94zm10 10l.94 2.06.94-2.06 2.06-.94-2.06-.94-.94-2.06-.94 2.06-2.06.94z\"/><path d=\"M17.41 7.96l-1.37-1.37c-.4-.4-.92-.59-1.43-.59-.52 0-1.04.2-1.43.59L10.3 9.45l-7.72 7.72c-.78.78-.78 2.05 0 2.83L4 21.41c.39.39.9.59 1.41.59.51 0 1.02-.2 1.41-.59l7.78-7.78 2.81-2.81c.8-.78.8-2.07 0-2.86zM5.41 20L4 18.59l7.72-7.72 1.47 1.35L5.41 20z\"/>\n",
              "  </svg>\n",
              "      </button>\n",
              "      \n",
              "  <style>\n",
              "    .colab-df-container {\n",
              "      display:flex;\n",
              "      flex-wrap:wrap;\n",
              "      gap: 12px;\n",
              "    }\n",
              "\n",
              "    .colab-df-convert {\n",
              "      background-color: #E8F0FE;\n",
              "      border: none;\n",
              "      border-radius: 50%;\n",
              "      cursor: pointer;\n",
              "      display: none;\n",
              "      fill: #1967D2;\n",
              "      height: 32px;\n",
              "      padding: 0 0 0 0;\n",
              "      width: 32px;\n",
              "    }\n",
              "\n",
              "    .colab-df-convert:hover {\n",
              "      background-color: #E2EBFA;\n",
              "      box-shadow: 0px 1px 2px rgba(60, 64, 67, 0.3), 0px 1px 3px 1px rgba(60, 64, 67, 0.15);\n",
              "      fill: #174EA6;\n",
              "    }\n",
              "\n",
              "    [theme=dark] .colab-df-convert {\n",
              "      background-color: #3B4455;\n",
              "      fill: #D2E3FC;\n",
              "    }\n",
              "\n",
              "    [theme=dark] .colab-df-convert:hover {\n",
              "      background-color: #434B5C;\n",
              "      box-shadow: 0px 1px 3px 1px rgba(0, 0, 0, 0.15);\n",
              "      filter: drop-shadow(0px 1px 2px rgba(0, 0, 0, 0.3));\n",
              "      fill: #FFFFFF;\n",
              "    }\n",
              "  </style>\n",
              "\n",
              "      <script>\n",
              "        const buttonEl =\n",
              "          document.querySelector('#df-4671d4af-df4e-4724-a5af-c80a953389ea button.colab-df-convert');\n",
              "        buttonEl.style.display =\n",
              "          google.colab.kernel.accessAllowed ? 'block' : 'none';\n",
              "\n",
              "        async function convertToInteractive(key) {\n",
              "          const element = document.querySelector('#df-4671d4af-df4e-4724-a5af-c80a953389ea');\n",
              "          const dataTable =\n",
              "            await google.colab.kernel.invokeFunction('convertToInteractive',\n",
              "                                                     [key], {});\n",
              "          if (!dataTable) return;\n",
              "\n",
              "          const docLinkHtml = 'Like what you see? Visit the ' +\n",
              "            '<a target=\"_blank\" href=https://colab.research.google.com/notebooks/data_table.ipynb>data table notebook</a>'\n",
              "            + ' to learn more about interactive tables.';\n",
              "          element.innerHTML = '';\n",
              "          dataTable['output_type'] = 'display_data';\n",
              "          await google.colab.output.renderOutput(dataTable, element);\n",
              "          const docLink = document.createElement('div');\n",
              "          docLink.innerHTML = docLinkHtml;\n",
              "          element.appendChild(docLink);\n",
              "        }\n",
              "      </script>\n",
              "    </div>\n",
              "  </div>\n",
              "  "
            ]
          },
          "metadata": {},
          "execution_count": 4
        }
      ]
    },
    {
      "cell_type": "code",
      "metadata": {
        "id": "d4qpw9ZaOkIq"
      },
      "source": [
        "####################################\n",
        "#                 #\n",
        "# 自己決定三家公司哪家公司(填數字)#\n",
        "# 挑選一家公司來做訓練、預測   #\n",
        "#                 #\n",
        "#                 #\n",
        "####################################\n",
        "companys = {\"2330\":\"TSMC\",\"2454\":\"MEDIATEK\",\"2317\":\"FOXCONN\"}\n",
        "company_id = 2454"
      ],
      "execution_count": null,
      "outputs": []
    },
    {
      "cell_type": "code",
      "metadata": {
        "id": "6Qkjc3kHOoD8",
        "colab": {
          "base_uri": "https://localhost:8080/",
          "height": 237
        },
        "outputId": "bdaf3b5a-f0c7-4ee7-94f1-f8cdb2c53aad"
      },
      "source": [
        "company = train_df[train_df[\"company\"] == company_id]\n",
        "company.index = company[\"date\"]\n",
        "company.head()"
      ],
      "execution_count": null,
      "outputs": [
        {
          "output_type": "execute_result",
          "data": {
            "text/plain": [
              "          company      date  price\n",
              "date                              \n",
              "2012/1/2     2454  2012/1/2  273.0\n",
              "2012/1/3     2454  2012/1/3  280.0\n",
              "2012/1/4     2454  2012/1/4  280.5\n",
              "2012/1/5     2454  2012/1/5  282.0\n",
              "2012/1/6     2454  2012/1/6  278.5"
            ],
            "text/html": [
              "\n",
              "  <div id=\"df-2a662d84-0b0e-4304-ac5b-3b3d0784c12d\">\n",
              "    <div class=\"colab-df-container\">\n",
              "      <div>\n",
              "<style scoped>\n",
              "    .dataframe tbody tr th:only-of-type {\n",
              "        vertical-align: middle;\n",
              "    }\n",
              "\n",
              "    .dataframe tbody tr th {\n",
              "        vertical-align: top;\n",
              "    }\n",
              "\n",
              "    .dataframe thead th {\n",
              "        text-align: right;\n",
              "    }\n",
              "</style>\n",
              "<table border=\"1\" class=\"dataframe\">\n",
              "  <thead>\n",
              "    <tr style=\"text-align: right;\">\n",
              "      <th></th>\n",
              "      <th>company</th>\n",
              "      <th>date</th>\n",
              "      <th>price</th>\n",
              "    </tr>\n",
              "    <tr>\n",
              "      <th>date</th>\n",
              "      <th></th>\n",
              "      <th></th>\n",
              "      <th></th>\n",
              "    </tr>\n",
              "  </thead>\n",
              "  <tbody>\n",
              "    <tr>\n",
              "      <th>2012/1/2</th>\n",
              "      <td>2454</td>\n",
              "      <td>2012/1/2</td>\n",
              "      <td>273.0</td>\n",
              "    </tr>\n",
              "    <tr>\n",
              "      <th>2012/1/3</th>\n",
              "      <td>2454</td>\n",
              "      <td>2012/1/3</td>\n",
              "      <td>280.0</td>\n",
              "    </tr>\n",
              "    <tr>\n",
              "      <th>2012/1/4</th>\n",
              "      <td>2454</td>\n",
              "      <td>2012/1/4</td>\n",
              "      <td>280.5</td>\n",
              "    </tr>\n",
              "    <tr>\n",
              "      <th>2012/1/5</th>\n",
              "      <td>2454</td>\n",
              "      <td>2012/1/5</td>\n",
              "      <td>282.0</td>\n",
              "    </tr>\n",
              "    <tr>\n",
              "      <th>2012/1/6</th>\n",
              "      <td>2454</td>\n",
              "      <td>2012/1/6</td>\n",
              "      <td>278.5</td>\n",
              "    </tr>\n",
              "  </tbody>\n",
              "</table>\n",
              "</div>\n",
              "      <button class=\"colab-df-convert\" onclick=\"convertToInteractive('df-2a662d84-0b0e-4304-ac5b-3b3d0784c12d')\"\n",
              "              title=\"Convert this dataframe to an interactive table.\"\n",
              "              style=\"display:none;\">\n",
              "        \n",
              "  <svg xmlns=\"http://www.w3.org/2000/svg\" height=\"24px\"viewBox=\"0 0 24 24\"\n",
              "       width=\"24px\">\n",
              "    <path d=\"M0 0h24v24H0V0z\" fill=\"none\"/>\n",
              "    <path d=\"M18.56 5.44l.94 2.06.94-2.06 2.06-.94-2.06-.94-.94-2.06-.94 2.06-2.06.94zm-11 1L8.5 8.5l.94-2.06 2.06-.94-2.06-.94L8.5 2.5l-.94 2.06-2.06.94zm10 10l.94 2.06.94-2.06 2.06-.94-2.06-.94-.94-2.06-.94 2.06-2.06.94z\"/><path d=\"M17.41 7.96l-1.37-1.37c-.4-.4-.92-.59-1.43-.59-.52 0-1.04.2-1.43.59L10.3 9.45l-7.72 7.72c-.78.78-.78 2.05 0 2.83L4 21.41c.39.39.9.59 1.41.59.51 0 1.02-.2 1.41-.59l7.78-7.78 2.81-2.81c.8-.78.8-2.07 0-2.86zM5.41 20L4 18.59l7.72-7.72 1.47 1.35L5.41 20z\"/>\n",
              "  </svg>\n",
              "      </button>\n",
              "      \n",
              "  <style>\n",
              "    .colab-df-container {\n",
              "      display:flex;\n",
              "      flex-wrap:wrap;\n",
              "      gap: 12px;\n",
              "    }\n",
              "\n",
              "    .colab-df-convert {\n",
              "      background-color: #E8F0FE;\n",
              "      border: none;\n",
              "      border-radius: 50%;\n",
              "      cursor: pointer;\n",
              "      display: none;\n",
              "      fill: #1967D2;\n",
              "      height: 32px;\n",
              "      padding: 0 0 0 0;\n",
              "      width: 32px;\n",
              "    }\n",
              "\n",
              "    .colab-df-convert:hover {\n",
              "      background-color: #E2EBFA;\n",
              "      box-shadow: 0px 1px 2px rgba(60, 64, 67, 0.3), 0px 1px 3px 1px rgba(60, 64, 67, 0.15);\n",
              "      fill: #174EA6;\n",
              "    }\n",
              "\n",
              "    [theme=dark] .colab-df-convert {\n",
              "      background-color: #3B4455;\n",
              "      fill: #D2E3FC;\n",
              "    }\n",
              "\n",
              "    [theme=dark] .colab-df-convert:hover {\n",
              "      background-color: #434B5C;\n",
              "      box-shadow: 0px 1px 3px 1px rgba(0, 0, 0, 0.15);\n",
              "      filter: drop-shadow(0px 1px 2px rgba(0, 0, 0, 0.3));\n",
              "      fill: #FFFFFF;\n",
              "    }\n",
              "  </style>\n",
              "\n",
              "      <script>\n",
              "        const buttonEl =\n",
              "          document.querySelector('#df-2a662d84-0b0e-4304-ac5b-3b3d0784c12d button.colab-df-convert');\n",
              "        buttonEl.style.display =\n",
              "          google.colab.kernel.accessAllowed ? 'block' : 'none';\n",
              "\n",
              "        async function convertToInteractive(key) {\n",
              "          const element = document.querySelector('#df-2a662d84-0b0e-4304-ac5b-3b3d0784c12d');\n",
              "          const dataTable =\n",
              "            await google.colab.kernel.invokeFunction('convertToInteractive',\n",
              "                                                     [key], {});\n",
              "          if (!dataTable) return;\n",
              "\n",
              "          const docLinkHtml = 'Like what you see? Visit the ' +\n",
              "            '<a target=\"_blank\" href=https://colab.research.google.com/notebooks/data_table.ipynb>data table notebook</a>'\n",
              "            + ' to learn more about interactive tables.';\n",
              "          element.innerHTML = '';\n",
              "          dataTable['output_type'] = 'display_data';\n",
              "          await google.colab.output.renderOutput(dataTable, element);\n",
              "          const docLink = document.createElement('div');\n",
              "          docLink.innerHTML = docLinkHtml;\n",
              "          element.appendChild(docLink);\n",
              "        }\n",
              "      </script>\n",
              "    </div>\n",
              "  </div>\n",
              "  "
            ]
          },
          "metadata": {},
          "execution_count": 6
        }
      ]
    },
    {
      "cell_type": "code",
      "metadata": {
        "id": "LacIURDSOos0"
      },
      "source": [
        "def include_last_iter(start,end,step):\n",
        "  i = start\n",
        "  while i < end:\n",
        "      yield i\n",
        "      i += step\n",
        "  yield end-1"
      ],
      "execution_count": null,
      "outputs": []
    },
    {
      "cell_type": "code",
      "metadata": {
        "colab": {
          "base_uri": "https://localhost:8080/",
          "height": 485
        },
        "id": "ztReqaKGOpjl",
        "outputId": "33e1349a-fa2a-479d-ceb3-112deb5a5794"
      },
      "source": [
        "plt.figure(figsize=(16, 8))\n",
        "plt.subplots_adjust(hspace=0.5)\n",
        "for index,c in enumerate(companys):\n",
        "  plt.subplot(2,2,index+1)\n",
        "  company_df = train_df[train_df[\"company\"] == int(c)]\n",
        "  plt.plot(company_df[\"date\"],company_df[\"price\"])\n",
        "  plt.xticks(list(include_last_iter(0,company_df.shape[0],250)),rotation=30)\n",
        "  plt.title(companys[c])\n",
        "  plt.xlabel(\"Date\")\n",
        "  plt.ylabel(\"price\")\n",
        "    \n",
        "plt.show()"
      ],
      "execution_count": null,
      "outputs": [
        {
          "output_type": "display_data",
          "data": {
            "text/plain": [
              "<Figure size 1152x576 with 3 Axes>"
            ],
            "image/png": "[encoded data removed]"
          },
          "metadata": {
            "needs_background": "light"
          }
        }
      ]
    },
    {
      "cell_type": "markdown",
      "metadata": {
        "id": "o-fbgns7YudB"
      },
      "source": [
        "## 3. 資料前處理"
      ]
    },
    {
      "cell_type": "code",
      "metadata": {
        "colab": {
          "base_uri": "https://localhost:8080/"
        },
        "id": "sg8bkUoMOsxG",
        "outputId": "d74f165b-5fff-41ff-f1d0-85e384ee0375"
      },
      "source": [
        "# 切分training data & validation data\n",
        "total_len = company.shape[0]\n",
        "training_len = 2100\n",
        "validation_data = total_len - training_len\n",
        "\n",
        "print(\"總共有 : \",total_len,\"筆\")\n",
        "print(\"訓練用 : (前)\",training_len,\"筆\")\n",
        "print(\"驗證用 : (後)\",validation_data,\"筆\")"
      ],
      "execution_count": null,
      "outputs": [
        {
          "output_type": "stream",
          "name": "stdout",
          "text": [
            "總共有 :  2231 筆\n",
            "訓練用 : (前) 2100 筆\n",
            "驗證用 : (後) 131 筆\n"
          ]
        }
      ]
    },
    {
      "cell_type": "code",
      "metadata": {
        "id": "ndsIf36gW0Wl"
      },
      "source": [
        "# 自己做 MinMax Transformer 前處理 \n",
        "class MinMaxTransformer:\n",
        "  def __init__(self):\n",
        "    self.min = None\n",
        "    self.max = None\n",
        "    self.distance = None\n",
        "\n",
        "  def fit(self,data):\n",
        "    self.min = min(data)\n",
        "    self.max = max(data)\n",
        "    self.distance = self.max - self.min\n",
        "    out = [(d-self.min)/self.distance for d in data]\n",
        "    return out\n",
        "\n",
        "  def recover(self,data):\n",
        "    out = [d*self.distance+self.min for d in data]\n",
        "    return out\n",
        "\n",
        "  def transform(self,data):\n",
        "    out = [(d-self.min)/self.distance for d in data]\n",
        "    return out\n",
        "\n",
        "  def transform_one(self,data):\n",
        "    return (data-self.min)/self.distance"
      ],
      "execution_count": null,
      "outputs": []
    },
    {
      "cell_type": "code",
      "metadata": {
        "id": "urZjG_kDOuTP"
      },
      "source": [
        "train_prices = company[\"price\"].values\n",
        "\n",
        "scalar = MinMaxTransformer()\n",
        "scalar_data = scalar.fit(train_prices)"
      ],
      "execution_count": null,
      "outputs": []
    },
    {
      "cell_type": "code",
      "metadata": {
        "colab": {
          "base_uri": "https://localhost:8080/"
        },
        "id": "vRXJt6sWizwT",
        "outputId": "c475a384-0b70-4eae-bf67-8e3fbbdfbf9c"
      },
      "source": [
        "# 做正規化\n",
        "print(\"origin data : \",train_prices[:5])\n",
        "print(\"transform data : \",scalar_data[:5])\n",
        "print(\"recover data : \",scalar.recover(scalar_data[:5]))"
      ],
      "execution_count": null,
      "outputs": [
        {
          "output_type": "stream",
          "name": "stdout",
          "text": [
            "origin data :  [273.  280.  280.5 282.  278.5]\n",
            "transform data :  [0.1091644204851752, 0.11859838274932614, 0.1192722371967655, 0.12129380053908356, 0.11657681940700809]\n",
            "recover data :  [273.0, 280.0, 280.5, 282.0, 278.5]\n"
          ]
        }
      ]
    },
    {
      "cell_type": "code",
      "metadata": {
        "id": "Jcwp01DcVyCv"
      },
      "source": [
        "# 切分資料集\n",
        "training_data = scalar_data[:training_len]\n",
        "validation_data = scalar_data[training_len:]"
      ],
      "execution_count": null,
      "outputs": []
    },
    {
      "cell_type": "code",
      "metadata": {
        "id": "OGbPWD0bVT3j"
      },
      "source": [
        "# todo 決定Seq長度\n",
        "seq_len = 3\n",
        "\n",
        "def split_input_target(seq):\n",
        "  input_txt = tf.expand_dims(seq[:-1],-1)\n",
        "  target_txt = tf.expand_dims(seq[1:],-1)\n",
        "  return input_txt,target_txt\n"
      ],
      "execution_count": null,
      "outputs": []
    },
    {
      "cell_type": "code",
      "metadata": {
        "id": "HP47J0uvVcix"
      },
      "source": [
        "def make_ds(data):\n",
        "  data_slice = tf.data.Dataset.from_tensor_slices(data)\n",
        "  data_sequence = data_slice.batch(seq_len+1,drop_remainder=True)\n",
        "\n",
        "  dataset = data_sequence.map(split_input_target)\n",
        "  return dataset"
      ],
      "execution_count": null,
      "outputs": []
    },
    {
      "cell_type": "code",
      "metadata": {
        "id": "5ahh3yHx8f4u",
        "colab": {
          "base_uri": "https://localhost:8080/"
        },
        "outputId": "cfb34aec-d731-4c75-b1d0-ff15a5b3b3f6"
      },
      "source": [
        "# 製作資料集\n",
        "train_ds = make_ds(training_data)\n",
        "val_ds = make_ds(validation_data)\n",
        "\n",
        "for input_example,target_exaple in train_ds.take(1):\n",
        "  print(\"Input :\", scalar.recover(input_example.numpy()))\n",
        "  print(\"Target:\", scalar.recover(target_exaple.numpy()))\n",
        "  print(\"-\"*50)\n",
        "  print(\"Input :\", input_example.numpy())\n",
        "  print(\"Target:\", target_exaple.numpy())\n",
        "\n",
        "print(input_example.shape)\n",
        "\n",
        "print(target_exaple.shape)\n"
      ],
      "execution_count": null,
      "outputs": [
        {
          "output_type": "stream",
          "name": "stdout",
          "text": [
            "Input : [array([273.]), array([280.]), array([280.5])]\n",
            "Target: [array([280.]), array([280.5]), array([282.])]\n",
            "--------------------------------------------------\n",
            "Input : [[0.10916442]\n",
            " [0.11859838]\n",
            " [0.11927224]]\n",
            "Target: [[0.11859838]\n",
            " [0.11927224]\n",
            " [0.1212938 ]]\n",
            "(3, 1)\n",
            "(3, 1)\n"
          ]
        }
      ]
    },
    {
      "cell_type": "code",
      "metadata": {
        "id": "xfilEwW9843h",
        "colab": {
          "base_uri": "https://localhost:8080/"
        },
        "outputId": "5165ef58-e57a-478d-e406-5cff0f298f3b"
      },
      "source": [
        "# Batch size\n",
        "# todo 決定Batch大小\n",
        "BATCH_SIZE = 8\n",
        "\n",
        "BUFFER_SIZE = training_len\n",
        "\n",
        "train_ds = (train_ds.shuffle(BUFFER_SIZE).batch(BATCH_SIZE))\n",
        "val_ds = val_ds.batch(BATCH_SIZE)\n",
        "\n",
        "train_ds\n"
      ],
      "execution_count": null,
      "outputs": [
        {
          "output_type": "execute_result",
          "data": {
            "text/plain": [
              "<BatchDataset element_spec=(TensorSpec(shape=(None, 3, 1), dtype=tf.float64, name=None), TensorSpec(shape=(None, 3, 1), dtype=tf.float64, name=None))>"
            ]
          },
          "metadata": {},
          "execution_count": 17
        }
      ]
    },
    {
      "cell_type": "markdown",
      "metadata": {
        "id": "SSlabzCtaG3Y"
      },
      "source": [
        "## 4. 建立模型\n",
        "\n",
        "提示: Output是一個數值，所以Model output維度為1。\n",
        "\n",
        "* 輸入維度應為: (batch,seq_len,1)\n",
        "\n",
        "* 輸出維度應為: (batch,seq_len,1)\n",
        "\n",
        "**最後一層Dense不要加上任何activation function。**\n"
      ]
    },
    {
      "cell_type": "code",
      "metadata": {
        "id": "JJ-76DoZ9FG2",
        "colab": {
          "base_uri": "https://localhost:8080/"
        },
        "outputId": "4b0e8fcf-7094-4b84-f206-35ab0a36735d"
      },
      "source": [
        "\n",
        "from keras.models import Sequential\n",
        "from keras.layers import Dense\n",
        "from keras.layers import LSTM\n",
        "from keras.layers import Dropout,BatchNormalization\n",
        "from keras.layers import Flatten\n",
        "\n",
        "model = Sequential()\n",
        "model.add(LSTM(units = 128,return_sequences=True,input_shape=(3, 1)))\n",
        "model.add(Dropout(0.2))\n",
        "model.add(LSTM(units = 128,return_sequences=True))\n",
        "model.add(Dropout(0.2))\n",
        "model.add(LSTM(units = 128))\n",
        "model.add(Dropout(0.2))\n",
        "model.add(Flatten())\n",
        "model.add(Dense(1,activation='linear'))\n",
        "model.add(Dense(units = 1))\n",
        "\n",
        "\n",
        "\n",
        "model.summary()\n",
        "\n"
      ],
      "execution_count": null,
      "outputs": [
        {
          "output_type": "stream",
          "name": "stdout",
          "text": [
            "Model: \"sequential_8\"\n",
            "_________________________________________________________________\n",
            " Layer (type)                Output Shape              Param #   \n",
            "=================================================================\n",
            " lstm_29 (LSTM)              (None, 3, 128)            66560     \n",
            "                                                                 \n",
            " dropout_29 (Dropout)        (None, 3, 128)            0         \n",
            "                                                                 \n",
            " lstm_30 (LSTM)              (None, 3, 128)            131584    \n",
            "                                                                 \n",
            " dropout_30 (Dropout)        (None, 3, 128)            0         \n",
            "                                                                 \n",
            " lstm_31 (LSTM)              (None, 128)               131584    \n",
            "                                                                 \n",
            " dropout_31 (Dropout)        (None, 128)               0         \n",
            "                                                                 \n",
            " flatten_6 (Flatten)         (None, 128)               0         \n",
            "                                                                 \n",
            " dense_14 (Dense)            (None, 1)                 129       \n",
            "                                                                 \n",
            " dense_15 (Dense)            (None, 1)                 2         \n",
            "                                                                 \n",
            "=================================================================\n",
            "Total params: 329,859\n",
            "Trainable params: 329,859\n",
            "Non-trainable params: 0\n",
            "_________________________________________________________________\n"
          ]
        }
      ]
    },
    {
      "cell_type": "markdown",
      "metadata": {
        "id": "bsa9LxCcaJxN"
      },
      "source": [
        "## 5. 制定訓練計畫並訓練\n",
        "\n",
        "我們做數字相關預測，可以考慮用Mean_Squared_Error\n",
        "\n",
        "公式:\n",
        "$$MSE = \\frac{1}{n} \\sum_{i=1}^N({\\gamma-\\hat{\\gamma}})^2$$\n",
        "\n",
        "\n",
        "提示:\n",
        "不用管公式在幹嘛，compile帶入mean_squared_error。"
      ]
    },
    {
      "cell_type": "code",
      "metadata": {
        "id": "SIBlVYai-ZuU",
        "colab": {
          "base_uri": "https://localhost:8080/"
        },
        "outputId": "4f8c743b-49c0-40c6-dd72-1a8dfd1f1173"
      },
      "source": [
        "\n",
        "# todo\n",
        "epochs = 100\n",
        "\n",
        "# todo\n",
        "# model.compile\n",
        "model.compile(optimizer = 'adam', loss = 'mean_squared_error')\n",
        "# todo\n",
        "# model.fit\n",
        "history=model.fit(train_ds,validation_data=val_ds, epochs = epochs)"
      ],
      "execution_count": null,
      "outputs": [
        {
          "output_type": "stream",
          "name": "stdout",
          "text": [
            "Epoch 1/100\n",
            "66/66 [==============================] - 7s 31ms/step - loss: 0.0211 - val_loss: 0.1072\n",
            "Epoch 2/100\n",
            "66/66 [==============================] - 1s 11ms/step - loss: 0.0015 - val_loss: 0.0076\n",
            "Epoch 3/100\n",
            "66/66 [==============================] - 1s 10ms/step - loss: 4.3542e-04 - val_loss: 0.0107\n",
            "Epoch 4/100\n",
            "66/66 [==============================] - 1s 10ms/step - loss: 4.1639e-04 - val_loss: 0.0122\n",
            "Epoch 5/100\n",
            "66/66 [==============================] - 1s 10ms/step - loss: 3.7727e-04 - val_loss: 0.0093\n",
            "Epoch 6/100\n",
            "66/66 [==============================] - 1s 10ms/step - loss: 4.4022e-04 - val_loss: 0.0055\n",
            "Epoch 7/100\n",
            "66/66 [==============================] - 1s 11ms/step - loss: 4.7407e-04 - val_loss: 0.0053\n",
            "Epoch 8/100\n",
            "66/66 [==============================] - 1s 10ms/step - loss: 4.0107e-04 - val_loss: 0.0153\n",
            "Epoch 9/100\n",
            "66/66 [==============================] - 1s 10ms/step - loss: 4.4978e-04 - val_loss: 0.0113\n",
            "Epoch 10/100\n",
            "66/66 [==============================] - 1s 11ms/step - loss: 3.2344e-04 - val_loss: 0.0048\n",
            "Epoch 11/100\n",
            "66/66 [==============================] - 1s 10ms/step - loss: 3.9743e-04 - val_loss: 0.0093\n",
            "Epoch 12/100\n",
            "66/66 [==============================] - 1s 10ms/step - loss: 3.5144e-04 - val_loss: 0.0054\n",
            "Epoch 13/100\n",
            "66/66 [==============================] - 1s 10ms/step - loss: 3.2000e-04 - val_loss: 0.0085\n",
            "Epoch 14/100\n",
            "66/66 [==============================] - 1s 10ms/step - loss: 3.0785e-04 - val_loss: 0.0095\n",
            "Epoch 15/100\n",
            "66/66 [==============================] - 1s 11ms/step - loss: 3.5442e-04 - val_loss: 0.0090\n",
            "Epoch 16/100\n",
            "66/66 [==============================] - 1s 10ms/step - loss: 3.9777e-04 - val_loss: 0.0064\n",
            "Epoch 17/100\n",
            "66/66 [==============================] - 1s 11ms/step - loss: 4.1419e-04 - val_loss: 0.0082\n",
            "Epoch 18/100\n",
            "66/66 [==============================] - 1s 11ms/step - loss: 3.0628e-04 - val_loss: 0.0065\n",
            "Epoch 19/100\n",
            "66/66 [==============================] - 1s 11ms/step - loss: 3.0087e-04 - val_loss: 0.0049\n",
            "Epoch 20/100\n",
            "66/66 [==============================] - 1s 11ms/step - loss: 2.9055e-04 - val_loss: 0.0047\n",
            "Epoch 21/100\n",
            "66/66 [==============================] - 1s 11ms/step - loss: 3.9328e-04 - val_loss: 0.0072\n",
            "Epoch 22/100\n",
            "66/66 [==============================] - 1s 11ms/step - loss: 3.3554e-04 - val_loss: 0.0053\n",
            "Epoch 23/100\n",
            "66/66 [==============================] - 1s 10ms/step - loss: 2.8986e-04 - val_loss: 0.0032\n",
            "Epoch 24/100\n",
            "66/66 [==============================] - 1s 11ms/step - loss: 3.1379e-04 - val_loss: 0.0059\n",
            "Epoch 25/100\n",
            "66/66 [==============================] - 1s 11ms/step - loss: 3.7758e-04 - val_loss: 0.0122\n",
            "Epoch 26/100\n",
            "66/66 [==============================] - 1s 11ms/step - loss: 2.9781e-04 - val_loss: 0.0062\n",
            "Epoch 27/100\n",
            "66/66 [==============================] - 1s 11ms/step - loss: 2.3582e-04 - val_loss: 0.0054\n",
            "Epoch 28/100\n",
            "66/66 [==============================] - 1s 10ms/step - loss: 3.7576e-04 - val_loss: 0.0027\n",
            "Epoch 29/100\n",
            "66/66 [==============================] - 1s 11ms/step - loss: 2.5834e-04 - val_loss: 0.0046\n",
            "Epoch 30/100\n",
            "66/66 [==============================] - 1s 11ms/step - loss: 2.9591e-04 - val_loss: 0.0039\n",
            "Epoch 31/100\n",
            "66/66 [==============================] - 1s 11ms/step - loss: 3.2379e-04 - val_loss: 0.0052\n",
            "Epoch 32/100\n",
            "66/66 [==============================] - 1s 11ms/step - loss: 3.4861e-04 - val_loss: 0.0060\n",
            "Epoch 33/100\n",
            "66/66 [==============================] - 1s 10ms/step - loss: 2.4268e-04 - val_loss: 0.0016\n",
            "Epoch 34/100\n",
            "66/66 [==============================] - 1s 11ms/step - loss: 2.6794e-04 - val_loss: 0.0060\n",
            "Epoch 35/100\n",
            "66/66 [==============================] - 1s 11ms/step - loss: 1.9555e-04 - val_loss: 0.0024\n",
            "Epoch 36/100\n",
            "66/66 [==============================] - 1s 10ms/step - loss: 2.5558e-04 - val_loss: 0.0022\n",
            "Epoch 37/100\n",
            "66/66 [==============================] - 1s 11ms/step - loss: 4.1460e-04 - val_loss: 0.0032\n",
            "Epoch 38/100\n",
            "66/66 [==============================] - 1s 11ms/step - loss: 2.7078e-04 - val_loss: 0.0011\n",
            "Epoch 39/100\n",
            "66/66 [==============================] - 1s 11ms/step - loss: 2.5911e-04 - val_loss: 0.0027\n",
            "Epoch 40/100\n",
            "66/66 [==============================] - 1s 10ms/step - loss: 2.4781e-04 - val_loss: 0.0012\n",
            "Epoch 41/100\n",
            "66/66 [==============================] - 1s 11ms/step - loss: 2.1465e-04 - val_loss: 0.0025\n",
            "Epoch 42/100\n",
            "66/66 [==============================] - 1s 11ms/step - loss: 2.2887e-04 - val_loss: 0.0016\n",
            "Epoch 43/100\n",
            "66/66 [==============================] - 1s 10ms/step - loss: 2.3248e-04 - val_loss: 0.0014\n",
            "Epoch 44/100\n",
            "66/66 [==============================] - 1s 11ms/step - loss: 2.8774e-04 - val_loss: 0.0028\n",
            "Epoch 45/100\n",
            "66/66 [==============================] - 1s 11ms/step - loss: 2.4936e-04 - val_loss: 0.0010\n",
            "Epoch 46/100\n",
            "66/66 [==============================] - 1s 11ms/step - loss: 2.4744e-04 - val_loss: 7.6408e-04\n",
            "Epoch 47/100\n",
            "66/66 [==============================] - 1s 11ms/step - loss: 3.0557e-04 - val_loss: 0.0053\n",
            "Epoch 48/100\n",
            "66/66 [==============================] - 1s 11ms/step - loss: 2.5617e-04 - val_loss: 9.7718e-04\n",
            "Epoch 49/100\n",
            "66/66 [==============================] - 1s 11ms/step - loss: 2.2622e-04 - val_loss: 0.0024\n",
            "Epoch 50/100\n",
            "66/66 [==============================] - 1s 11ms/step - loss: 2.2732e-04 - val_loss: 0.0010\n",
            "Epoch 51/100\n",
            "66/66 [==============================] - 1s 11ms/step - loss: 2.2475e-04 - val_loss: 8.0131e-04\n",
            "Epoch 52/100\n",
            "66/66 [==============================] - 1s 11ms/step - loss: 2.4257e-04 - val_loss: 0.0028\n",
            "Epoch 53/100\n",
            "66/66 [==============================] - 1s 11ms/step - loss: 2.0007e-04 - val_loss: 0.0011\n",
            "Epoch 54/100\n",
            "66/66 [==============================] - 1s 11ms/step - loss: 2.0407e-04 - val_loss: 0.0041\n",
            "Epoch 55/100\n",
            "66/66 [==============================] - 1s 11ms/step - loss: 2.7192e-04 - val_loss: 0.0022\n",
            "Epoch 56/100\n",
            "66/66 [==============================] - 1s 11ms/step - loss: 2.0019e-04 - val_loss: 0.0011\n",
            "Epoch 57/100\n",
            "66/66 [==============================] - 1s 11ms/step - loss: 2.1792e-04 - val_loss: 0.0016\n",
            "Epoch 58/100\n",
            "66/66 [==============================] - 1s 10ms/step - loss: 2.3539e-04 - val_loss: 6.4935e-04\n",
            "Epoch 59/100\n",
            "66/66 [==============================] - 1s 11ms/step - loss: 2.4657e-04 - val_loss: 0.0017\n",
            "Epoch 60/100\n",
            "66/66 [==============================] - 1s 13ms/step - loss: 3.6560e-04 - val_loss: 0.0015\n",
            "Epoch 61/100\n",
            "66/66 [==============================] - 1s 11ms/step - loss: 1.8215e-04 - val_loss: 0.0012\n",
            "Epoch 62/100\n",
            "66/66 [==============================] - 1s 11ms/step - loss: 2.1609e-04 - val_loss: 8.3038e-04\n",
            "Epoch 63/100\n",
            "66/66 [==============================] - 1s 11ms/step - loss: 2.0869e-04 - val_loss: 0.0012\n",
            "Epoch 64/100\n",
            "66/66 [==============================] - 1s 11ms/step - loss: 2.7687e-04 - val_loss: 0.0037\n",
            "Epoch 65/100\n",
            "66/66 [==============================] - 1s 11ms/step - loss: 2.7997e-04 - val_loss: 0.0051\n",
            "Epoch 66/100\n",
            "66/66 [==============================] - 1s 11ms/step - loss: 2.0182e-04 - val_loss: 0.0014\n",
            "Epoch 67/100\n",
            "66/66 [==============================] - 1s 11ms/step - loss: 1.8458e-04 - val_loss: 8.8989e-04\n",
            "Epoch 68/100\n",
            "66/66 [==============================] - 1s 11ms/step - loss: 2.0886e-04 - val_loss: 0.0013\n",
            "Epoch 69/100\n",
            "66/66 [==============================] - 1s 11ms/step - loss: 1.8656e-04 - val_loss: 0.0015\n",
            "Epoch 70/100\n",
            "66/66 [==============================] - 1s 11ms/step - loss: 3.1276e-04 - val_loss: 0.0049\n",
            "Epoch 71/100\n",
            "66/66 [==============================] - 1s 11ms/step - loss: 2.2260e-04 - val_loss: 8.3173e-04\n",
            "Epoch 72/100\n",
            "66/66 [==============================] - 1s 11ms/step - loss: 2.3102e-04 - val_loss: 9.8368e-04\n",
            "Epoch 73/100\n",
            "66/66 [==============================] - 1s 11ms/step - loss: 1.9235e-04 - val_loss: 8.2970e-04\n",
            "Epoch 74/100\n",
            "66/66 [==============================] - 1s 11ms/step - loss: 2.2652e-04 - val_loss: 0.0027\n",
            "Epoch 75/100\n",
            "66/66 [==============================] - 1s 11ms/step - loss: 2.0106e-04 - val_loss: 0.0026\n",
            "Epoch 76/100\n",
            "66/66 [==============================] - 1s 11ms/step - loss: 2.9850e-04 - val_loss: 6.8219e-04\n",
            "Epoch 77/100\n",
            "66/66 [==============================] - 1s 12ms/step - loss: 1.8759e-04 - val_loss: 0.0015\n",
            "Epoch 78/100\n",
            "66/66 [==============================] - 1s 11ms/step - loss: 1.5421e-04 - val_loss: 0.0014\n",
            "Epoch 79/100\n",
            "66/66 [==============================] - 1s 11ms/step - loss: 1.9093e-04 - val_loss: 9.8461e-04\n",
            "Epoch 80/100\n",
            "66/66 [==============================] - 1s 11ms/step - loss: 1.8147e-04 - val_loss: 0.0034\n",
            "Epoch 81/100\n",
            "66/66 [==============================] - 1s 11ms/step - loss: 2.4394e-04 - val_loss: 7.0018e-04\n",
            "Epoch 82/100\n",
            "66/66 [==============================] - 1s 10ms/step - loss: 2.2851e-04 - val_loss: 0.0021\n",
            "Epoch 83/100\n",
            "66/66 [==============================] - 1s 11ms/step - loss: 1.8519e-04 - val_loss: 0.0023\n",
            "Epoch 84/100\n",
            "66/66 [==============================] - 1s 11ms/step - loss: 1.6480e-04 - val_loss: 6.5125e-04\n",
            "Epoch 85/100\n",
            "66/66 [==============================] - 1s 11ms/step - loss: 1.5333e-04 - val_loss: 6.4243e-04\n",
            "Epoch 86/100\n",
            "66/66 [==============================] - 1s 11ms/step - loss: 1.4495e-04 - val_loss: 6.9152e-04\n",
            "Epoch 87/100\n",
            "66/66 [==============================] - 1s 11ms/step - loss: 2.3599e-04 - val_loss: 8.7717e-04\n",
            "Epoch 88/100\n",
            "66/66 [==============================] - 1s 11ms/step - loss: 1.7357e-04 - val_loss: 0.0034\n",
            "Epoch 89/100\n",
            "66/66 [==============================] - 1s 11ms/step - loss: 2.3117e-04 - val_loss: 0.0020\n",
            "Epoch 90/100\n",
            "66/66 [==============================] - 1s 11ms/step - loss: 2.1204e-04 - val_loss: 0.0026\n",
            "Epoch 91/100\n",
            "66/66 [==============================] - 1s 11ms/step - loss: 1.6424e-04 - val_loss: 0.0013\n",
            "Epoch 92/100\n",
            "66/66 [==============================] - 1s 11ms/step - loss: 1.8553e-04 - val_loss: 0.0023\n",
            "Epoch 93/100\n",
            "66/66 [==============================] - 1s 11ms/step - loss: 1.4519e-04 - val_loss: 6.3892e-04\n",
            "Epoch 94/100\n",
            "66/66 [==============================] - 1s 11ms/step - loss: 1.5500e-04 - val_loss: 8.9071e-04\n",
            "Epoch 95/100\n",
            "66/66 [==============================] - 1s 11ms/step - loss: 1.6960e-04 - val_loss: 0.0011\n",
            "Epoch 96/100\n",
            "66/66 [==============================] - 1s 11ms/step - loss: 1.5916e-04 - val_loss: 0.0022\n",
            "Epoch 97/100\n",
            "66/66 [==============================] - 1s 11ms/step - loss: 1.5487e-04 - val_loss: 0.0012\n",
            "Epoch 98/100\n",
            "66/66 [==============================] - 1s 11ms/step - loss: 1.8717e-04 - val_loss: 6.5957e-04\n",
            "Epoch 99/100\n",
            "66/66 [==============================] - 1s 11ms/step - loss: 1.9438e-04 - val_loss: 4.7943e-04\n",
            "Epoch 100/100\n",
            "66/66 [==============================] - 1s 11ms/step - loss: 1.7136e-04 - val_loss: 0.0028\n"
          ]
        }
      ]
    },
    {
      "cell_type": "markdown",
      "metadata": {
        "id": "4fLe9uGZaMBJ"
      },
      "source": [
        "## 6. 評估模型"
      ]
    },
    {
      "cell_type": "code",
      "metadata": {
        "id": "j3T68McvCkcl",
        "colab": {
          "base_uri": "https://localhost:8080/",
          "height": 295
        },
        "outputId": "6650a90e-b807-43ef-8267-731fe4ef43ca"
      },
      "source": [
        "l1, = plt.plot(history.history['loss'])\n",
        "l2, = plt.plot(history.history['val_loss'])\n",
        "plt.legend(handles=[l1,l2],labels=['loss','val_loss'],loc='best')\n",
        "plt.title('model loss')\n",
        "plt.ylabel('loss')\n",
        "plt.xlabel('epoch')\n",
        "\n",
        "plt.show()"
      ],
      "execution_count": null,
      "outputs": [
        {
          "output_type": "display_data",
          "data": {
            "text/plain": [
              "<Figure size 432x288 with 1 Axes>"
            ],
            "image/png": "[encoded data removed]"
          },
          "metadata": {
            "needs_background": "light"
          }
        }
      ]
    },
    {
      "cell_type": "code",
      "metadata": {
        "id": "CUoUTu8KC_Sq",
        "colab": {
          "base_uri": "https://localhost:8080/",
          "height": 206
        },
        "outputId": "2fcee213-9903-4a4f-d115-2dbd20e86e24"
      },
      "source": [
        "test_company = test_df[test_df[\"company\"] == company_id]\n",
        "test_company.head()"
      ],
      "execution_count": null,
      "outputs": [
        {
          "output_type": "execute_result",
          "data": {
            "text/plain": [
              "    company      date  price\n",
              "77     2454  2021/2/1  905.0\n",
              "76     2454  2021/2/2  931.0\n",
              "75     2454  2021/2/3  950.0\n",
              "74     2454  2021/2/4  946.0\n",
              "73     2454  2021/2/5  950.0"
            ],
            "text/html": [
              "\n",
              "  <div id=\"df-a769c93c-b91f-4e67-8222-070caec458d8\">\n",
              "    <div class=\"colab-df-container\">\n",
              "      <div>\n",
              "<style scoped>\n",
              "    .dataframe tbody tr th:only-of-type {\n",
              "        vertical-align: middle;\n",
              "    }\n",
              "\n",
              "    .dataframe tbody tr th {\n",
              "        vertical-align: top;\n",
              "    }\n",
              "\n",
              "    .dataframe thead th {\n",
              "        text-align: right;\n",
              "    }\n",
              "</style>\n",
              "<table border=\"1\" class=\"dataframe\">\n",
              "  <thead>\n",
              "    <tr style=\"text-align: right;\">\n",
              "      <th></th>\n",
              "      <th>company</th>\n",
              "      <th>date</th>\n",
              "      <th>price</th>\n",
              "    </tr>\n",
              "  </thead>\n",
              "  <tbody>\n",
              "    <tr>\n",
              "      <th>77</th>\n",
              "      <td>2454</td>\n",
              "      <td>2021/2/1</td>\n",
              "      <td>905.0</td>\n",
              "    </tr>\n",
              "    <tr>\n",
              "      <th>76</th>\n",
              "      <td>2454</td>\n",
              "      <td>2021/2/2</td>\n",
              "      <td>931.0</td>\n",
              "    </tr>\n",
              "    <tr>\n",
              "      <th>75</th>\n",
              "      <td>2454</td>\n",
              "      <td>2021/2/3</td>\n",
              "      <td>950.0</td>\n",
              "    </tr>\n",
              "    <tr>\n",
              "      <th>74</th>\n",
              "      <td>2454</td>\n",
              "      <td>2021/2/4</td>\n",
              "      <td>946.0</td>\n",
              "    </tr>\n",
              "    <tr>\n",
              "      <th>73</th>\n",
              "      <td>2454</td>\n",
              "      <td>2021/2/5</td>\n",
              "      <td>950.0</td>\n",
              "    </tr>\n",
              "  </tbody>\n",
              "</table>\n",
              "</div>\n",
              "      <button class=\"colab-df-convert\" onclick=\"convertToInteractive('df-a769c93c-b91f-4e67-8222-070caec458d8')\"\n",
              "              title=\"Convert this dataframe to an interactive table.\"\n",
              "              style=\"display:none;\">\n",
              "        \n",
              "  <svg xmlns=\"http://www.w3.org/2000/svg\" height=\"24px\"viewBox=\"0 0 24 24\"\n",
              "       width=\"24px\">\n",
              "    <path d=\"M0 0h24v24H0V0z\" fill=\"none\"/>\n",
              "    <path d=\"M18.56 5.44l.94 2.06.94-2.06 2.06-.94-2.06-.94-.94-2.06-.94 2.06-2.06.94zm-11 1L8.5 8.5l.94-2.06 2.06-.94-2.06-.94L8.5 2.5l-.94 2.06-2.06.94zm10 10l.94 2.06.94-2.06 2.06-.94-2.06-.94-.94-2.06-.94 2.06-2.06.94z\"/><path d=\"M17.41 7.96l-1.37-1.37c-.4-.4-.92-.59-1.43-.59-.52 0-1.04.2-1.43.59L10.3 9.45l-7.72 7.72c-.78.78-.78 2.05 0 2.83L4 21.41c.39.39.9.59 1.41.59.51 0 1.02-.2 1.41-.59l7.78-7.78 2.81-2.81c.8-.78.8-2.07 0-2.86zM5.41 20L4 18.59l7.72-7.72 1.47 1.35L5.41 20z\"/>\n",
              "  </svg>\n",
              "      </button>\n",
              "      \n",
              "  <style>\n",
              "    .colab-df-container {\n",
              "      display:flex;\n",
              "      flex-wrap:wrap;\n",
              "      gap: 12px;\n",
              "    }\n",
              "\n",
              "    .colab-df-convert {\n",
              "      background-color: #E8F0FE;\n",
              "      border: none;\n",
              "      border-radius: 50%;\n",
              "      cursor: pointer;\n",
              "      display: none;\n",
              "      fill: #1967D2;\n",
              "      height: 32px;\n",
              "      padding: 0 0 0 0;\n",
              "      width: 32px;\n",
              "    }\n",
              "\n",
              "    .colab-df-convert:hover {\n",
              "      background-color: #E2EBFA;\n",
              "      box-shadow: 0px 1px 2px rgba(60, 64, 67, 0.3), 0px 1px 3px 1px rgba(60, 64, 67, 0.15);\n",
              "      fill: #174EA6;\n",
              "    }\n",
              "\n",
              "    [theme=dark] .colab-df-convert {\n",
              "      background-color: #3B4455;\n",
              "      fill: #D2E3FC;\n",
              "    }\n",
              "\n",
              "    [theme=dark] .colab-df-convert:hover {\n",
              "      background-color: #434B5C;\n",
              "      box-shadow: 0px 1px 3px 1px rgba(0, 0, 0, 0.15);\n",
              "      filter: drop-shadow(0px 1px 2px rgba(0, 0, 0, 0.3));\n",
              "      fill: #FFFFFF;\n",
              "    }\n",
              "  </style>\n",
              "\n",
              "      <script>\n",
              "        const buttonEl =\n",
              "          document.querySelector('#df-a769c93c-b91f-4e67-8222-070caec458d8 button.colab-df-convert');\n",
              "        buttonEl.style.display =\n",
              "          google.colab.kernel.accessAllowed ? 'block' : 'none';\n",
              "\n",
              "        async function convertToInteractive(key) {\n",
              "          const element = document.querySelector('#df-a769c93c-b91f-4e67-8222-070caec458d8');\n",
              "          const dataTable =\n",
              "            await google.colab.kernel.invokeFunction('convertToInteractive',\n",
              "                                                     [key], {});\n",
              "          if (!dataTable) return;\n",
              "\n",
              "          const docLinkHtml = 'Like what you see? Visit the ' +\n",
              "            '<a target=\"_blank\" href=https://colab.research.google.com/notebooks/data_table.ipynb>data table notebook</a>'\n",
              "            + ' to learn more about interactive tables.';\n",
              "          element.innerHTML = '';\n",
              "          dataTable['output_type'] = 'display_data';\n",
              "          await google.colab.output.renderOutput(dataTable, element);\n",
              "          const docLink = document.createElement('div');\n",
              "          docLink.innerHTML = docLinkHtml;\n",
              "          element.appendChild(docLink);\n",
              "        }\n",
              "      </script>\n",
              "    </div>\n",
              "  </div>\n",
              "  "
            ]
          },
          "metadata": {},
          "execution_count": 69
        }
      ]
    },
    {
      "cell_type": "markdown",
      "metadata": {
        "id": "JaDw00V8Z-Lw"
      },
      "source": [
        "## 7. 做預測 (20分)"
      ]
    },
    {
      "cell_type": "code",
      "source": [
        "# 預測 Test data\n",
        "# 現在我們取出了選定公司最後seq_len天\n",
        "# 我們模型透過讀取seq_len天後預測出seq_len+1天的價格\n",
        "\n",
        "# 將日期保存在datas中 (list)\n",
        "# 將真實價格保存在real_prices中 (list)\n",
        "# 將預測價格保存在pred_prices中 (list) *注: 請填入經過正規化後的價格\n",
        "\n",
        "# input是一個經過**正規化**的真實價格list，請試著遍歷test_company來填滿上述三個list\n",
        "# 可以參考TextGeneration的generateWords function，概念一樣，但是這次input請全部都填入\"真實價格\"\n",
        "# 但是這次input請append \"真實價格\"\n",
        "# 但是這次input請append \"真實價格\"\n",
        "# 但是這次input請append \"真實價格\"\n",
        "# 但是這次input請append \"真實價格\"\n",
        "# 但是這次input請append \"真實價格\"\n",
        "\n",
        "init_price = company.iloc[-seq_len:,:][\"price\"].values\n",
        "dates = []\n",
        "real_prices = []\n",
        "pred_prices = []\n",
        "input = scalar.transform(init_price)\n",
        "\n",
        "for index,row in test_company.iterrows():\n",
        "  # 我已經幫你把real_price和date放入list\n",
        "  real_price = row[\"price\"]\n",
        "  real_prices.append(real_price)\n",
        "  date = row[\"date\"]\n",
        "  dates.append(date)\n",
        " \n",
        "  next_input = tf.expand_dims(input,axis=0)\n",
        "  pred_price = model(next_input)\n",
        "  pred_price = np.array(pred_price)\n",
        "  pred_price = np.reshape(pred_price, (pred_price.shape[0], pred_price.shape[1], 1))\n",
        "  pred_price = pred_price[0,-1,0]  \n",
        "  pred_prices.append(pred_price)\n",
        " \n",
        "  real_price = scalar.transform_one(real_price)\n",
        "  input = input+[real_price]\n",
        "  input = input[-seq_len:]\n",
        "\n",
        "  # 參考步驟 (在for迴圈中) :\n",
        "  # 1. 把input轉**維度**成一個新變數next_input丟入model\n",
        "  # 2. 獲得的pred取出seq中最後一個時間點的output數值 (提示: [0,-1,0])\n",
        "  # 3. 把pred丟入pred_prices中\n",
        "  # 4. 把real_price經過transform_one轉換成小數點並加在input後面\n",
        "  # 5. 保持input長度為seq_len長 (也就是把最前面的數字踢掉)\n",
        "  ##########\n",
        "  # todo #\n",
        "  ##########\n"
      ],
      "metadata": {
        "id": "maU5Er5nRuqP"
      },
      "execution_count": null,
      "outputs": []
    },
    {
      "cell_type": "code",
      "metadata": {
        "id": "1TIRXmjWbbXq",
        "colab": {
          "base_uri": "https://localhost:8080/"
        },
        "outputId": "096f49b1-2ab7-4c84-d978-cbed4d1f7c28"
      },
      "source": [
        "print(f\"dates : {dates[:10]}\")\n",
        "print(f\"real_prices : {real_prices[:10]}\")\n",
        "print(f\"pred_prices : {pred_prices[:10]}\")"
      ],
      "execution_count": null,
      "outputs": [
        {
          "output_type": "stream",
          "name": "stdout",
          "text": [
            "dates : ['2021/2/1', '2021/2/2', '2021/2/3', '2021/2/4', '2021/2/5', '2021/2/17', '2021/2/18', '2021/2/19', '2021/2/22', '2021/2/23']\n",
            "real_prices : [905.0, 931.0, 950.0, 946.0, 950.0, 980.0, 978.0, 964.0, 951.0, 965.0]\n",
            "pred_prices : [0.94145906, 0.9549466, 0.9848831, 1.0145427, 1.0266386, 1.0317711, 1.0498288, 1.0623826, 1.0605575, 1.0466713]\n"
          ]
        }
      ]
    },
    {
      "cell_type": "markdown",
      "metadata": {
        "id": "cukTAdbxbGKN"
      },
      "source": [
        "* 預期結果:\n",
        "\n",
        "![](https://i.imgur.com/iXdMWD6.png)"
      ]
    },
    {
      "cell_type": "code",
      "metadata": {
        "id": "mAxyVvCsO1Ei",
        "colab": {
          "base_uri": "https://localhost:8080/",
          "height": 485
        },
        "outputId": "0f1e1432-d614-4f5b-e220-77e82419c0ab"
      },
      "source": [
        "plt.figure(figsize=(16, 8))\n",
        "l1, = plt.plot(dates,real_prices)\n",
        "l2, = plt.plot(dates,scalar.recover(pred_prices))\n",
        "plt.xticks(list(include_last_iter(0,len(dates),3)),rotation=30)\n",
        "plt.legend(handles=[l1,l2],labels=['Real','Pred'],loc='best')\n",
        "plt.title(companys[str(company_id)])\n",
        "plt.xlabel(\"Date\")\n",
        "plt.ylabel(\"price\")\n",
        "plt.show()"
      ],
      "execution_count": null,
      "outputs": [
        {
          "output_type": "display_data",
          "data": {
            "text/plain": [
              "<Figure size 1152x576 with 1 Axes>"
            ],
            "image/png": "[encoded data removed]"
          },
          "metadata": {
            "needs_background": "light"
          }
        }
      ]
    },
    {
      "cell_type": "markdown",
      "metadata": {
        "id": "zXrQ1B1majO2"
      },
      "source": [
        "* 預期成果\n",
        "\n",
        "照理來說不會100%猜中，猜中幾乎100%可能是不小心偷看答案了。\n",
        "\n",
        "不過要是你的模型正確的話，應該會看到如下pred price在true price附近而不是躺在地上。\n",
        "\n",
        "![](https://i.imgur.com/tFoKEyK.png)"
      ]
    }
  ]
}